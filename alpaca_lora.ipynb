{
  "nbformat": 4,
  "nbformat_minor": 0,
  "metadata": {
    "colab": {
      "provenance": [],
      "machine_shape": "hm",
      "include_colab_link": true
    },
    "kernelspec": {
      "name": "python3",
      "display_name": "Python 3"
    },
    "language_info": {
      "name": "python"
    },
    "accelerator": "GPU",
    "gpuClass": "premium"
  },
  "cells": [
    {
      "cell_type": "markdown",
      "metadata": {
        "id": "view-in-github",
        "colab_type": "text"
      },
      "source": [
        "<a href=\"https://colab.research.google.com/github/xavirubi/tappx-challenge/blob/master/alpaca_lora.ipynb\" target=\"_parent\"><img src=\"https://colab.research.google.com/assets/colab-badge.svg\" alt=\"Open In Colab\"/></a>"
      ]
    },
    {
      "cell_type": "markdown",
      "source": [
        "# Talk to Alpaca-LoRA\n",
        "\n",
        "This notebook contains minimal code for running [Alpaca-LoRA](https://github.com/tloen/alpaca-lora/) for demonstration purposes. Please check the repo for more details."
      ],
      "metadata": {
        "id": "6ExAe1UCWn5E"
      }
    },
    {
      "cell_type": "code",
      "source": [
        "!pip install bitsandbytes\n",
        "!pip install -q datasets loralib sentencepiece\n",
        "!pip install -q git+https://github.com/zphang/transformers@c3dc391\n",
        "!pip install -q git+https://github.com/huggingface/peft.git\n"
      ],
      "metadata": {
        "id": "X_pz8MuY84Qh"
      },
      "execution_count": null,
      "outputs": []
    },
    {
      "cell_type": "code",
      "source": [
        "from peft import PeftModel\n",
        "from transformers import LLaMATokenizer, LLaMAForCausalLM, GenerationConfig\n",
        "\n",
        "tokenizer = LLaMATokenizer.from_pretrained(\"decapoda-research/llama-7b-hf\")\n",
        "model = LLaMAForCausalLM.from_pretrained(\n",
        "    \"decapoda-research/llama-7b-hf\",\n",
        "    load_in_8bit=True,\n",
        "    device_map=\"auto\",\n",
        ")\n",
        "model = PeftModel.from_pretrained(model, \"tloen/alpaca-lora-7b\")"
      ],
      "metadata": {
        "id": "VucO3HSMoJkz"
      },
      "execution_count": null,
      "outputs": []
    },
    {
      "cell_type": "code",
      "source": [
        "def generate_prompt(instruction, input=None):\n",
        "    if input:\n",
        "        return f\"\"\"Below is an instruction that describes a task, paired with an input that provides further context. Write a response that appropriately completes the request.\n",
        "\n",
        "### Instruction:\n",
        "{instruction}\n",
        "\n",
        "### Input:\n",
        "{input}\n",
        "\n",
        "### Response:\"\"\"\n",
        "    else:\n",
        "        return f\"\"\"Below is an instruction that describes a task. Write a response that appropriately completes the request.\n",
        "\n",
        "### Instruction:\n",
        "{instruction}\n",
        "\n",
        "### Response:\"\"\""
      ],
      "metadata": {
        "id": "w3_lzwcqermJ"
      },
      "execution_count": 3,
      "outputs": []
    },
    {
      "cell_type": "code",
      "source": [
        "generation_config = GenerationConfig(\n",
        "    temperature=0.1,\n",
        "    top_p=0.75,\n",
        "    num_beams=4,\n",
        ")\n",
        "\n",
        "def evaluate(instruction, input=None):\n",
        "    prompt = generate_prompt(instruction, input)\n",
        "    inputs = tokenizer(prompt, return_tensors=\"pt\")\n",
        "    input_ids = inputs[\"input_ids\"].cuda()\n",
        "    generation_output = model.generate(\n",
        "        input_ids=input_ids,\n",
        "        generation_config=generation_config,\n",
        "        return_dict_in_generate=True,\n",
        "        output_scores=True,\n",
        "        max_new_tokens=256\n",
        "    )\n",
        "    for s in generation_output.sequences:\n",
        "        output = tokenizer.decode(s)\n",
        "        # print(\"Response:\", output.split(\"### Response:\")[1].strip())\n",
        "        return (\"Response:\", output.split(\"### Response:\")[1].strip())"
      ],
      "metadata": {
        "id": "Egh3beCVRpW5"
      },
      "execution_count": 4,
      "outputs": []
    },
    {
      "cell_type": "code",
      "source": [
        "!pip install -U deep-translator"
      ],
      "metadata": {
        "id": "D3IvBaToisoP"
      },
      "execution_count": null,
      "outputs": []
    },
    {
      "cell_type": "code",
      "source": [
        "import json\n",
        "from deep_translator import GoogleTranslator\n",
        "\n",
        "\n",
        "f_articles = open('articles.json')\n",
        "f_videos = open('videos.json')\n",
        "\n",
        "articles_data = json.load(f_articles)\n",
        "videos_data = json.load(f_videos)\n",
        "\n",
        "article_ids = list(article_id for article_id in articles_data.keys())\n",
        "video_ids = list(video_id for video_id in videos_data.keys())\n",
        "\n",
        "def article_keywords(id):\n",
        "\treturn articles_data[id][\"keywords\"]\n",
        "\n",
        "def video_keywords(id):\n",
        "\treturn videos_data[id][\"keywords\"]\n",
        "\n",
        "\n",
        "# translated = GoogleTranslator(source='es', target='en').translate(text)\n",
        "\n",
        "# article = ' '.join(article_keywords(article_ids[0]))\n",
        "# en_article = GoogleTranslator(source='es', target='en').translate(article)\n",
        "for i in range(0, len(article_ids)):\n",
        "  article = ' '.join(article_keywords(article_ids[i]))\n",
        "  en_article = GoogleTranslator(source='es', target='en').translate(article)\n",
        "  for j in range(0, len(video_ids)):\n",
        "    video = ' '.join(video_keywords(video_ids[j]))\n",
        "    en_video = GoogleTranslator(source='es', target='en').translate(video)\n",
        "    response = evaluate(f'''is this set of words \"{en_article}\" related to this other set of words \"{en_video}\"''')\n",
        "    if 'yes' in response[1].lower():\n",
        "      print(f'''Article {i}: {article}\\nVideo {j}: {video}\\n{response[1]}\\n\\n''')\n"
      ],
      "metadata": {
        "colab": {
          "base_uri": "https://localhost:8080/",
          "height": 1000
        },
        "id": "upOB2AQJSW9-",
        "outputId": "d5ee8d97-8539-4d57-84d8-fef85c440c05"
      },
      "execution_count": 6,
      "outputs": [
        {
          "output_type": "stream",
          "name": "stdout",
          "text": [
            "Article 0: S 80 Armada Espanola submarinos renovar flota Ministerio de Defensa sumergibles flotabilidad riesgo hundimiento balance de pesos agrandado asesores estadounidenses muelles de atraque base naval de Cartagena presupuesto sobrecostos mercado internacional.\n",
            "Video 5: siento es la desconexion con sus amigos no poder verlos todos los dias y compartir con ellos como solian hacerlo. Tambien experimentan miedo e incertidumbre por el futuro por lo que les deparara la situacion causada por la epidemia en cuanto a su educacion y su vida en general. En cuanto a las medidas implementadas para la educacion a distancia algunos se han adaptado bien y han respondido positivamente mientras que otros han tenido dificultades para acceder a la tecnologia necesaria o para seguir el ritmo de las clases online.\n",
            "Yes, this set of words is related to the other set of words.\n",
            "\n",
            "\n",
            "Article 0: S 80 Armada Espanola submarinos renovar flota Ministerio de Defensa sumergibles flotabilidad riesgo hundimiento balance de pesos agrandado asesores estadounidenses muelles de atraque base naval de Cartagena presupuesto sobrecostos mercado internacional.\n",
            "Video 8: preocupante dato natalidad siete por cada mil registro ciento veinte anos cifra Espana veinte anos fuentes Instituto Nacional de Estadistica Movimiento Natural de la Poblacion dos mil dieciocho tres cientos sesenta y nueve mil tres cientos dos tres cientos sesenta y cinco mil ciento noventa y tres serie aumentando progresivamente maximo dos mil ocho descenso seis coma uno por ciento cuarenta coma siete ultima decada edad media mujeres madres treinta y dos coma dos anos treinta y dos coma uno retraso maternidad nacimientos madres cuarenta o mas anos crecido sesenta comunidades autonomas Melilla cero coma seis por ciento Galicia La Rioja Extremadura mayores descensos.\n",
            "Yes, this set of words is related to the other set of words.\n",
            "\n",
            "\n",
            "Article 0: S 80 Armada Espanola submarinos renovar flota Ministerio de Defensa sumergibles flotabilidad riesgo hundimiento balance de pesos agrandado asesores estadounidenses muelles de atraque base naval de Cartagena presupuesto sobrecostos mercado internacional.\n",
            "Video 23: Paises con eleccion propia de sus lideres Parlamento elige a lideres judiciales Consejo como organo de gobierno del Poder Judicial garantiza independencia de jueces y magistrados nombramientos de magistrados dependen del Consejo Consejo con veinte sillas para vocales diez vocales salen del Congreso seis de ellos siempre jueces cuatro juristas diputados aprueban nombres con mayoria cualificada de tres quintos diez vocales salen del Senado seis de ellos siempre jueces cuatro juristas senadores aprueban nombres con mayoria cualificada de tres quintos candidatos votados por jueces en ambas camaras candidatos a juristas propuestos por grupos politicos parlamentarios presidente de Consejo es elegido por vocales con mayoria de tres quintos sistema de eleccion creado en 1985 por ley del gobierno de Felipe Gonzalez partidos politicos han tratado de controlar el Consejo del Poder Judicial para beneficiar a sus agendas politicas.\n",
            "Yes, this set of words is related to the other set of words.\n",
            "\n",
            "\n",
            "Article 0: S 80 Armada Espanola submarinos renovar flota Ministerio de Defensa sumergibles flotabilidad riesgo hundimiento balance de pesos agrandado asesores estadounidenses muelles de atraque base naval de Cartagena presupuesto sobrecostos mercado internacional.\n",
            "Video 25: Nuevo Retraso submarino Ese ochenta Armada problemas tecnicos Navantia serie S ochenta clase Ese setenta entregas fechas contractuales revision de la linea base de planificacion integrada pruebas systema de sonar tecnologia de inmersion listos para pruebas de mar (RTS) navegacion en superficie navegacion en inmersion sistema de propulsion independiente proyecto S ochenta.\n",
            "Yes, this set of words is related to the other set of words.\n",
            "\n",
            "\n",
            "Article 0: S 80 Armada Espanola submarinos renovar flota Ministerio de Defensa sumergibles flotabilidad riesgo hundimiento balance de pesos agrandado asesores estadounidenses muelles de atraque base naval de Cartagena presupuesto sobrecostos mercado internacional.\n",
            "Video 28: Cobi diecinueve turismo nacional medios de transporte privados Selva de Irati Navarra bosque de hayas y abetos hayedo I Have tal Europa caminatas frontera con Francia Parque Natural de Cabo de Gata Almeria costa andaluza playas calas Faro de Cabo de Gata Ruta de los Molinos Castilla La Mancha Quijote Toledo casa Museo de Dulcinea Mota del Cuervo Cuenca Ciudad Real Campo de Criptana molinos gigantes Consuegra turismo rural Las Hurdes Extremadura valles urbano La brillar disparaban y Los Angeles paisajes piscinas naturales meandros senderismo Sierra Norte de Madrid agua del grifo de Madrid Valle Medio del Lozoya Valle Alto del Lozoya Sierra del Rincon Valle del Jarama Sierra de la Cabrera valle bajo del Lozoya Guadalix de la Sierra El Atazar.\n",
            "Yes, the set of words \"S 80 Spanish Navy submarines renew fleet Ministry of Defense submersibles buoyancy sinking risk balance of weights enlarged US advisers berthing docks naval base in Cartagena budget cost overruns international market.\" is related to the other set of words \"Cobi nineteen national tourism private means of transport Selva de Irati Navarra beech and fir forest beech forest I Have tal Europe hikes border with France Cabo de Gata Natural Park Almeria Andalusian coast beaches coves Cabo de Gata Lighthouse Ruta de los Molinos Castilla La Mancha Quixote Toledo house Museum of Dulcinea Mota del Cuervo Cuenca Ciudad Real Campo de Criptana giant mills Consuegra rural tourism Las Hurdes Extremadura urban valleys The shine shot and Los Angeles landscapes natural pools meanders hiking Sierra Norte de Madrid Madrid tap water Valle Medio del Lozoya Valle Alto del Lozoya Sierra del Rincon Valley of Jarama Sierra de la Cabrera lower valley of Lozoya Gu\n",
            "\n",
            "\n",
            "Article 1: Montserrat Bernabeu novia de su hijo mujer buena carinosa partido de beisbol de Milan Jordi Martin paparazzi expareja encuentro cordial prensa espanola progenitora de Pique teletrabajando joven de 23 anos afectada emocionalmente Shakira Monotonia Ozuna.\n",
            "Video 1:  Ofertas precios bajos sorpresas Amazon Domotica altavoz inteligente Amazon Echo 4a generacion Patinete urbano con diseno robusto motor de 350 vatios y bateria de 48V autonomia de 50km precio rebajado de 159 euros (antes 700 euros) Portatil Lenovo Ideapad 3 rebajado a 19 euros (50% de descuento) Cafetera super automatica De'Longhi Soul preparacion completamente automatica conectada al telefono descuento de 200 euros (precio actual 999 euros) Kit de limpieza para auriculares con 3 cabezales y funciones (cepillo punzon y escobilla) de la marca Xiaomi utilizable en casa.\n",
            "Yes, these two sets of words are related.\n",
            "\n",
            "\n",
            "Article 1: Montserrat Bernabeu novia de su hijo mujer buena carinosa partido de beisbol de Milan Jordi Martin paparazzi expareja encuentro cordial prensa espanola progenitora de Pique teletrabajando joven de 23 anos afectada emocionalmente Shakira Monotonia Ozuna.\n",
            "Video 4: campana de becas San chismoso hombre mujer rico pobre clase humilde multiplicar pobreza ciudadanos Partido Popular zonas basicas de salud concentracion de The sanitarios Comunidad de Madrid beneficio salud asunto de becas seiscientas mil becas ciudadanos motivos economicos clase media empobrecida Sanchez izquierda.\n",
            "Yes, this set of words is related to the other set of words.\n",
            "\n",
            "\n",
            "Article 1: Montserrat Bernabeu novia de su hijo mujer buena carinosa partido de beisbol de Milan Jordi Martin paparazzi expareja encuentro cordial prensa espanola progenitora de Pique teletrabajando joven de 23 anos afectada emocionalmente Shakira Monotonia Ozuna.\n",
            "Video 5: siento es la desconexion con sus amigos no poder verlos todos los dias y compartir con ellos como solian hacerlo. Tambien experimentan miedo e incertidumbre por el futuro por lo que les deparara la situacion causada por la epidemia en cuanto a su educacion y su vida en general. En cuanto a las medidas implementadas para la educacion a distancia algunos se han adaptado bien y han respondido positivamente mientras que otros han tenido dificultades para acceder a la tecnologia necesaria o para seguir el ritmo de las clases online.\n",
            "Yes, this set of words is related to the other set of words.\n",
            "\n",
            "\n",
            "Article 1: Montserrat Bernabeu novia de su hijo mujer buena carinosa partido de beisbol de Milan Jordi Martin paparazzi expareja encuentro cordial prensa espanola progenitora de Pique teletrabajando joven de 23 anos afectada emocionalmente Shakira Monotonia Ozuna.\n",
            "Video 8: preocupante dato natalidad siete por cada mil registro ciento veinte anos cifra Espana veinte anos fuentes Instituto Nacional de Estadistica Movimiento Natural de la Poblacion dos mil dieciocho tres cientos sesenta y nueve mil tres cientos dos tres cientos sesenta y cinco mil ciento noventa y tres serie aumentando progresivamente maximo dos mil ocho descenso seis coma uno por ciento cuarenta coma siete ultima decada edad media mujeres madres treinta y dos coma dos anos treinta y dos coma uno retraso maternidad nacimientos madres cuarenta o mas anos crecido sesenta comunidades autonomas Melilla cero coma seis por ciento Galicia La Rioja Extremadura mayores descensos.\n",
            "Yes, this set of words is related to the other set of words.\n",
            "\n",
            "\n",
            "Article 1: Montserrat Bernabeu novia de su hijo mujer buena carinosa partido de beisbol de Milan Jordi Martin paparazzi expareja encuentro cordial prensa espanola progenitora de Pique teletrabajando joven de 23 anos afectada emocionalmente Shakira Monotonia Ozuna.\n",
            "Video 12: habito del orden rutinas ordenadas sueno vigilia alimentacion nutrientes prelacion paseo matutino cena banar padres mejores revista Hacer familia.\n",
            "Yes, this set of words is related to this other set of words.\n",
            "\n",
            "\n",
            "Article 1: Montserrat Bernabeu novia de su hijo mujer buena carinosa partido de beisbol de Milan Jordi Martin paparazzi expareja encuentro cordial prensa espanola progenitora de Pique teletrabajando joven de 23 anos afectada emocionalmente Shakira Monotonia Ozuna.\n",
            "Video 16:  aplicaciones para citas Tender Badoo Van Belle Badu Abu Saleh BU citas sexo casual amistad pareja Mallorca vacaciones mensajes originales mujeres escriben a los hombres relaciones serias respuesta en 24 horas contacto directo evitar escribir de manera generica evitar cumplidos superficiales\n",
            "Yes, this set of words is related to the other set of words.\n",
            "\n",
            "\n",
            "Article 1: Montserrat Bernabeu novia de su hijo mujer buena carinosa partido de beisbol de Milan Jordi Martin paparazzi expareja encuentro cordial prensa espanola progenitora de Pique teletrabajando joven de 23 anos afectada emocionalmente Shakira Monotonia Ozuna.\n",
            "Video 17: crisis de transporte maritimo escasez de contenedores precios de fletes disparados exportadores esperando por contenedores congestion de barcos en puertos cierre temporal de puertos en China reduccion de la produccion en empresas chinas India Vietnam y Bangladesh aumento del precio del transporte de mercancia aumento de precios de productos flete de China a Estados Unidos flete de China al norte de Europa costo del flete de contenedor entre Shanghai y America del Sur afectacion a una parte considerable de los productos que consumimos aumento de precios por subida de costos logisticos.\n",
            "Yes, this set of words is related to the other set of words.\n",
            "\n",
            "\n",
            "Article 1: Montserrat Bernabeu novia de su hijo mujer buena carinosa partido de beisbol de Milan Jordi Martin paparazzi expareja encuentro cordial prensa espanola progenitora de Pique teletrabajando joven de 23 anos afectada emocionalmente Shakira Monotonia Ozuna.\n",
            "Video 23: Paises con eleccion propia de sus lideres Parlamento elige a lideres judiciales Consejo como organo de gobierno del Poder Judicial garantiza independencia de jueces y magistrados nombramientos de magistrados dependen del Consejo Consejo con veinte sillas para vocales diez vocales salen del Congreso seis de ellos siempre jueces cuatro juristas diputados aprueban nombres con mayoria cualificada de tres quintos diez vocales salen del Senado seis de ellos siempre jueces cuatro juristas senadores aprueban nombres con mayoria cualificada de tres quintos candidatos votados por jueces en ambas camaras candidatos a juristas propuestos por grupos politicos parlamentarios presidente de Consejo es elegido por vocales con mayoria de tres quintos sistema de eleccion creado en 1985 por ley del gobierno de Felipe Gonzalez partidos politicos han tratado de controlar el Consejo del Poder Judicial para beneficiar a sus agendas politicas.\n",
            "Yes, the set of words \"Montserrat Bernabeu girlfriend of her son good loving woman baseball game in Milan Jordi Martin paparazzi ex-partner cordial meeting Spanish press parent of Pique teleworking 23 year old emotionally affected Shakira Monotonia Ozuna\" is related to the other set of words \"Countries with their own election of their leaders Parliament elects judicial leaders Council as the governing body of the Judiciary guarantees the independence of judges and magistrates Appointments of magistrates depend on the Council Council with twenty seats for members ten members leave Congress six of them always judges four jurists deputies approve names with a qualified majority of three-fifths ten members leave the Senate six of them always judges four jurists senators approve names with a qualified majority of three-fifths candidates voted for by judges in both chambers candidates for jurists proposed by parliamentary political groups President of the Council is elected by members with a three-fifths majority election system created in 1985 by law of the government of Felipe Gonzalez political parties have tried to control the Council of the Judici\n",
            "\n",
            "\n",
            "Article 1: Montserrat Bernabeu novia de su hijo mujer buena carinosa partido de beisbol de Milan Jordi Martin paparazzi expareja encuentro cordial prensa espanola progenitora de Pique teletrabajando joven de 23 anos afectada emocionalmente Shakira Monotonia Ozuna.\n",
            "Video 28: Cobi diecinueve turismo nacional medios de transporte privados Selva de Irati Navarra bosque de hayas y abetos hayedo I Have tal Europa caminatas frontera con Francia Parque Natural de Cabo de Gata Almeria costa andaluza playas calas Faro de Cabo de Gata Ruta de los Molinos Castilla La Mancha Quijote Toledo casa Museo de Dulcinea Mota del Cuervo Cuenca Ciudad Real Campo de Criptana molinos gigantes Consuegra turismo rural Las Hurdes Extremadura valles urbano La brillar disparaban y Los Angeles paisajes piscinas naturales meandros senderismo Sierra Norte de Madrid agua del grifo de Madrid Valle Medio del Lozoya Valle Alto del Lozoya Sierra del Rincon Valle del Jarama Sierra de la Cabrera valle bajo del Lozoya Guadalix de la Sierra El Atazar.\n",
            "Yes, these words are related.\n",
            "\n",
            "\n",
            "Article 1: Montserrat Bernabeu novia de su hijo mujer buena carinosa partido de beisbol de Milan Jordi Martin paparazzi expareja encuentro cordial prensa espanola progenitora de Pique teletrabajando joven de 23 anos afectada emocionalmente Shakira Monotonia Ozuna.\n",
            "Video 31: decisiones de ser infiel sindrome del nido vacio edad de divorcio duracion promedia de un matrimonio en Espana razones para no divorciarse no romper la familia seguridad economica seguir queriendo a su pareja felicidad en el matrimonio mientras se es infiel gastos del divorcio versus aventura coste emocional del divorcio inestabilidad emocional depresion ansiedad estres complejos fisicos miedo al futuro ajuste financiero y emocional.\n",
            "Yes, this set of words is related to the other set of words.\n",
            "\n",
            "\n",
            "Article 1: Montserrat Bernabeu novia de su hijo mujer buena carinosa partido de beisbol de Milan Jordi Martin paparazzi expareja encuentro cordial prensa espanola progenitora de Pique teletrabajando joven de 23 anos afectada emocionalmente Shakira Monotonia Ozuna.\n",
            "Video 35: llamado salud mental padres de familia cuidadores jovenes depresion ansiedad trastornos de conducta alimentaria rebeldia senales de alarma espacios para hablar proteccion adultez salud fisica calidad de vida vida trastornos mentales crisis del Covid 19 aumento de ocupacion en clinicas psiquiatricas emergencia funcional adolescencia cambios sociales emocionales fisicos identidad personalidad habilidades familia comunidad colegio interrupcion aislamiento tension ideas catastroficas noticias interactuar conflicto aislamiento fisico presiones senales de alarma cambio repentino en comportamiento fluctuaciones del estado de animo apatia falta de motivacion sintomas depresivos ideacion de suicidio riesgo bienestar emocional pedir ayuda prejuicios psicoterapia procesos de desarrollo entorno adaptacion progresiva acompanamiento adecuado.\n",
            "Yes, the set of words \"Montserrat Bernabeu girlfriend of her son good loving woman baseball game in Milan Jordi Martin paparazzi ex-partner cordial meeting Spanish press parent of Pique teleworking 23 year old emotionally affected Shakira Monotonia Ozuna\" is related to the other set of words \"called mental health parents young caregivers depression anxiety eating disorders rebellion warning signs spaces to talk adult protection physical health quality of life life mental disorders Covid 19 crisis increased occupation in psychiatric clinics functional emergency adolescence social emotional physical changes identity personality skills family community school interruption isolation tension catastrophic ideas news interact conflict physical isolation pressure alarm signals sudden change in behavior mood fluctuations apathy lack of motivation depressive symptoms suicide ideation risk emotional well-being ask for help prejudice psychotherapy development processes environment progressive adaptation accompaniment appropriate.\"\n",
            "\n",
            "\n",
            "Article 1: Montserrat Bernabeu novia de su hijo mujer buena carinosa partido de beisbol de Milan Jordi Martin paparazzi expareja encuentro cordial prensa espanola progenitora de Pique teletrabajando joven de 23 anos afectada emocionalmente Shakira Monotonia Ozuna.\n",
            "Video 37: plato bolsa estrategias bolsa espanola niveles anteriores crisis Ibex diez mil puntos ocho mil tres cientos ocho mil cuatrocientos bolsa americana maximos historicos Micron correccion indice europeo Global Eurostoxx cincuenta pandemia mercados Milan Paris Frankfurt Londres patito feo inversores empresas de crecimiento tecnologia sanidad bancos modelo de negocio presionado obliga fusionarse cerrar oficinas telefonia modelo tradicional deflacionario presidentes altos directivos exito Inditex Pablo Isla inversion privada subir impuestos tasas planes de pensiones privados costes energeticos politica devaneos separatistas Cataluna Agencia del Medicamento destino turistico inseguridad ciudadana congresos eventos dinero internacional mercado nacional mecanismo de financiacion economia privada deuda publica inversores particulares savia capilares actividad economica empresarial PIB motor de los ahorros privados.\n",
            "Yes, the set of words \"Montserrat Bernabeu girlfriend of her son good loving woman baseball game in Milan Jordi Martin paparazzi ex-partner cordial meeting Spanish press parent of Pique teleworking 23 year old emotionally affected Shakira Monotonia Ozuna\" is related to the other set of words \"plate stock market strategies Spanish stock market previous levels crisis Ibex ten thousand points eight thousand three hundred eight thousand four hundred American stock market historical highs Micron correction European index Global Eurostoxx fifty pandemic markets Milan Paris Frankfurt London ugly duckling investors growth companies technology healthcare banks business model pressured forces merge close offices telephony traditional deflationary model presidents senior managers success Inditex Pablo Isla private investment raise taxes rates private pension plans energy costs politics separatist dalliances Catalonia Drug Agency tourist destination citizen insecurity conferences events international money national market financing mechanism private economy public debt investors individuals sap capillaries business economic activity GDP engine of private savings.\"\n",
            "\n",
            "\n",
            "Article 1: Montserrat Bernabeu novia de su hijo mujer buena carinosa partido de beisbol de Milan Jordi Martin paparazzi expareja encuentro cordial prensa espanola progenitora de Pique teletrabajando joven de 23 anos afectada emocionalmente Shakira Monotonia Ozuna.\n",
            "Video 38: contaminacion de particulas diesel polen letal alergias cambio medio ambiente diagnostico de asma tratamiento de asma calor sol empeoramiento de la calidad del aire desarrollo de alergias contaminacion producida por particulas diesel grandes ciudades Mallorca Madrid aumento de la contaminacion consecuencias directas en la salud perdida de esperanza de vida usar mascarilla salir de grandes ciudades seguir control medico primavera problematica.\n",
            "Yes, the set of words \"Montserrat Bernabeu girlfriend of her son good loving woman baseball game in Milan Jordi Martin paparazzi ex-partner cordial meeting Spanish press parent of Pique teleworking 23 year old emotionally affected Shakira Monotonia Ozuna.\" is related to the other set of words \"diesel particulate pollution lethal pollen allergies environmental change diagnosis of asthma asthma treatment heat sun worsening air quality development of allergies pollution produced by diesel particles large cities Mallorca Madrid increase in pollution direct consequences on health loss of life expectancy wear a mask leave big cities follow medical control problematic spring.\"\n",
            "\n",
            "\n",
            "Article 2: coches vendidos Dacia Sandero SEAT Leon Nissan Qashqai Toyota Corolla SEAT Arona SEAT Ateca Renault Clio Peugeot 2008 Peugeot 3008 Renault Captur sector automovilistico ventas de coches incertidumbre economica pandemia del coronavirus cifras de ventas mercado automovilistico SUV todocamino mecanicas hibridas electrificacion factores determinantes.\n",
            "Video 1:  Ofertas precios bajos sorpresas Amazon Domotica altavoz inteligente Amazon Echo 4a generacion Patinete urbano con diseno robusto motor de 350 vatios y bateria de 48V autonomia de 50km precio rebajado de 159 euros (antes 700 euros) Portatil Lenovo Ideapad 3 rebajado a 19 euros (50% de descuento) Cafetera super automatica De'Longhi Soul preparacion completamente automatica conectada al telefono descuento de 200 euros (precio actual 999 euros) Kit de limpieza para auriculares con 3 cabezales y funciones (cepillo punzon y escobilla) de la marca Xiaomi utilizable en casa.\n",
            "Yes, this set of words is related to the other set of words.\n",
            "\n",
            "\n",
            "Article 2: coches vendidos Dacia Sandero SEAT Leon Nissan Qashqai Toyota Corolla SEAT Arona SEAT Ateca Renault Clio Peugeot 2008 Peugeot 3008 Renault Captur sector automovilistico ventas de coches incertidumbre economica pandemia del coronavirus cifras de ventas mercado automovilistico SUV todocamino mecanicas hibridas electrificacion factores determinantes.\n",
            "Video 2:  Alimentacion Alimentos Dieta Nutricionista Estilo de vida saludable Realfooding Comida real Alimentos minimamente procesados Verduras Hortalizas Frutas Frutos secos Legumbres Pescado Marisco Tuberculos Cereales integrales Huevos Carnes sin procesar Leche fresca Hierbas y especias Semillas Cafe Infusiones Alimentos reales procesados Aceite de oliva virgen extra Yogures Lacteos fermentados Pan integral Chocolate negro o cacao en polvo (>70%) Gazpacho envasado Legumbres de bote Pescado en lata Bebidas vegetales sin azucares anadidos Jamon iberico de bellota Comida real congelada o envasada al vacio Alimentos ultra procesados Harinas refinadas Aceites vegetales refinados Azucares anadidos Aditivos Sal\n",
            "Yes, this set of words is related to the other set of words.\n",
            "\n",
            "\n",
            "Article 2: coches vendidos Dacia Sandero SEAT Leon Nissan Qashqai Toyota Corolla SEAT Arona SEAT Ateca Renault Clio Peugeot 2008 Peugeot 3008 Renault Captur sector automovilistico ventas de coches incertidumbre economica pandemia del coronavirus cifras de ventas mercado automovilistico SUV todocamino mecanicas hibridas electrificacion factores determinantes.\n",
            "Video 3: Telescopio espacial James Webb NASA Astronomos sucesor joven Tierra altitud astronautas repararlo millon y medio de kilometros Luna inversion cohete origami espacio radiacion infrarroja luz visible galaxias expansion alejan ondas tonalidades violetas rojizas infrarrojas viajado proximas origen del universo Agencia Espacial Europea cientificos ingenieros espanoles universo.\n",
            "Yes, the set of words \"cars sold Dacia Sandero SEAT Leon Nissan Qashqai Toyota Corolla SEAT Arona SEAT Ateca Renault Clio Peugeot 2008 Peugeot 3008 Renault Captur automotive sector car sales economic uncertainty coronavirus pandemic sales figures automobile market SUV all-road hybrid mechanics electrification determining factors\" is related to the other set of words \"James Webb Space Telescope NASA Astronomers successor young Earth altitude astronauts repair it million and a half kilometers Moon inversion rocket origami space infrared radiation visible light galaxies expansion distance waves violet reddish hues infrared traveled next origin of the universe European Space Agency scientists Spanish engineers universe.\"\n",
            "\n",
            "\n",
            "Article 2: coches vendidos Dacia Sandero SEAT Leon Nissan Qashqai Toyota Corolla SEAT Arona SEAT Ateca Renault Clio Peugeot 2008 Peugeot 3008 Renault Captur sector automovilistico ventas de coches incertidumbre economica pandemia del coronavirus cifras de ventas mercado automovilistico SUV todocamino mecanicas hibridas electrificacion factores determinantes.\n",
            "Video 5: siento es la desconexion con sus amigos no poder verlos todos los dias y compartir con ellos como solian hacerlo. Tambien experimentan miedo e incertidumbre por el futuro por lo que les deparara la situacion causada por la epidemia en cuanto a su educacion y su vida en general. En cuanto a las medidas implementadas para la educacion a distancia algunos se han adaptado bien y han respondido positivamente mientras que otros han tenido dificultades para acceder a la tecnologia necesaria o para seguir el ritmo de las clases online.\n",
            "Yes, the set of words \"cars sold Dacia Sandero SEAT Leon Nissan Qashqai Toyota Corolla SEAT Arona SEAT Ateca Renault Clio Peugeot 2008 Peugeot 3008 Renault Captur automotive sector car sales economic uncertainty coronavirus pandemic sales figures automobile market SUV all-road hybrid mechanics electrification determining factors\" are related to the set of words \"I feel it is the disconnection with his friends, not being able to see them every day and share with them as they used to do. They also experience fear and uncertainty for the future because of what the situation caused by the epidemic will bring them in terms of their education and life in general. Regarding the measures implemented for distance education, some have adapted well and have responded positively while others have had difficulties accessing the necessary technology or keeping up with online classes.\"\n",
            "\n",
            "\n",
            "Article 2: coches vendidos Dacia Sandero SEAT Leon Nissan Qashqai Toyota Corolla SEAT Arona SEAT Ateca Renault Clio Peugeot 2008 Peugeot 3008 Renault Captur sector automovilistico ventas de coches incertidumbre economica pandemia del coronavirus cifras de ventas mercado automovilistico SUV todocamino mecanicas hibridas electrificacion factores determinantes.\n",
            "Video 6: velocidad de Internet companias telefonicas infraestructuras de fibra optica conectividad en el hogar anchos de banda datos de ancho de banda videollamada Netflix calidad estandar calidad HD Ultra HD 4K videojuegos router antenas repetidores Wifi tarifas de Internet conectividad dentro del hogar cableado fibra optica plastica puntos de acceso kits autoinstalables.\n",
            "Yes, the set of words \"cars sold Dacia Sandero SEAT Leon Nissan Qashqai Toyota Corolla SEAT Arona SEAT Ateca Renault Clio Peugeot 2008 Peugeot 3008 Renault Captur automotive sector car sales economic uncertainty coronavirus pandemic sales figures automobile market SUV all-road hybrid mechanics electrification determining factors\" is related to the other set of words \"Internet speed Telephone companies Fiber optic infrastructure Home connectivity Bandwidth Bandwidth data Video calls Netflix Standard quality HD quality Ultra HD 4K videogames Router antennas Wifi repeaters Internet rates Connectivity within the home Plastic fiber optic cabling Access points kits self-installable.\"\n",
            "\n",
            "\n"
          ]
        },
        {
          "output_type": "error",
          "ename": "KeyboardInterrupt",
          "evalue": "ignored",
          "traceback": [
            "\u001b[0;31m---------------------------------------------------------------------------\u001b[0m",
            "\u001b[0;31mKeyboardInterrupt\u001b[0m                         Traceback (most recent call last)",
            "\u001b[0;32m<ipython-input-6-bf38e40b6c64>\u001b[0m in \u001b[0;36m<module>\u001b[0;34m\u001b[0m\n\u001b[1;32m     29\u001b[0m     \u001b[0mvideo\u001b[0m \u001b[0;34m=\u001b[0m \u001b[0;34m' '\u001b[0m\u001b[0;34m.\u001b[0m\u001b[0mjoin\u001b[0m\u001b[0;34m(\u001b[0m\u001b[0mvideo_keywords\u001b[0m\u001b[0;34m(\u001b[0m\u001b[0mvideo_ids\u001b[0m\u001b[0;34m[\u001b[0m\u001b[0mj\u001b[0m\u001b[0;34m]\u001b[0m\u001b[0;34m)\u001b[0m\u001b[0;34m)\u001b[0m\u001b[0;34m\u001b[0m\u001b[0;34m\u001b[0m\u001b[0m\n\u001b[1;32m     30\u001b[0m     \u001b[0men_video\u001b[0m \u001b[0;34m=\u001b[0m \u001b[0mGoogleTranslator\u001b[0m\u001b[0;34m(\u001b[0m\u001b[0msource\u001b[0m\u001b[0;34m=\u001b[0m\u001b[0;34m'es'\u001b[0m\u001b[0;34m,\u001b[0m \u001b[0mtarget\u001b[0m\u001b[0;34m=\u001b[0m\u001b[0;34m'en'\u001b[0m\u001b[0;34m)\u001b[0m\u001b[0;34m.\u001b[0m\u001b[0mtranslate\u001b[0m\u001b[0;34m(\u001b[0m\u001b[0mvideo\u001b[0m\u001b[0;34m)\u001b[0m\u001b[0;34m\u001b[0m\u001b[0;34m\u001b[0m\u001b[0m\n\u001b[0;32m---> 31\u001b[0;31m     \u001b[0mresponse\u001b[0m \u001b[0;34m=\u001b[0m \u001b[0mevaluate\u001b[0m\u001b[0;34m(\u001b[0m\u001b[0;34mf'''is this set of words \"{en_article}\" related to this other set of words \"{en_video}\"'''\u001b[0m\u001b[0;34m)\u001b[0m\u001b[0;34m\u001b[0m\u001b[0;34m\u001b[0m\u001b[0m\n\u001b[0m\u001b[1;32m     32\u001b[0m     \u001b[0;32mif\u001b[0m \u001b[0;34m'yes'\u001b[0m \u001b[0;32min\u001b[0m \u001b[0mresponse\u001b[0m\u001b[0;34m[\u001b[0m\u001b[0;36m1\u001b[0m\u001b[0;34m]\u001b[0m\u001b[0;34m.\u001b[0m\u001b[0mlower\u001b[0m\u001b[0;34m(\u001b[0m\u001b[0;34m)\u001b[0m\u001b[0;34m:\u001b[0m\u001b[0;34m\u001b[0m\u001b[0;34m\u001b[0m\u001b[0m\n\u001b[1;32m     33\u001b[0m       \u001b[0mprint\u001b[0m\u001b[0;34m(\u001b[0m\u001b[0;34mf'''Article {i}: {article}\\nVideo {j}: {video}\\n{response[1]}\\n\\n'''\u001b[0m\u001b[0;34m)\u001b[0m\u001b[0;34m\u001b[0m\u001b[0;34m\u001b[0m\u001b[0m\n",
            "\u001b[0;32m<ipython-input-4-4027a217c617>\u001b[0m in \u001b[0;36mevaluate\u001b[0;34m(instruction, input)\u001b[0m\n\u001b[1;32m      9\u001b[0m     \u001b[0minputs\u001b[0m \u001b[0;34m=\u001b[0m \u001b[0mtokenizer\u001b[0m\u001b[0;34m(\u001b[0m\u001b[0mprompt\u001b[0m\u001b[0;34m,\u001b[0m \u001b[0mreturn_tensors\u001b[0m\u001b[0;34m=\u001b[0m\u001b[0;34m\"pt\"\u001b[0m\u001b[0;34m)\u001b[0m\u001b[0;34m\u001b[0m\u001b[0;34m\u001b[0m\u001b[0m\n\u001b[1;32m     10\u001b[0m     \u001b[0minput_ids\u001b[0m \u001b[0;34m=\u001b[0m \u001b[0minputs\u001b[0m\u001b[0;34m[\u001b[0m\u001b[0;34m\"input_ids\"\u001b[0m\u001b[0;34m]\u001b[0m\u001b[0;34m.\u001b[0m\u001b[0mcuda\u001b[0m\u001b[0;34m(\u001b[0m\u001b[0;34m)\u001b[0m\u001b[0;34m\u001b[0m\u001b[0;34m\u001b[0m\u001b[0m\n\u001b[0;32m---> 11\u001b[0;31m     generation_output = model.generate(\n\u001b[0m\u001b[1;32m     12\u001b[0m         \u001b[0minput_ids\u001b[0m\u001b[0;34m=\u001b[0m\u001b[0minput_ids\u001b[0m\u001b[0;34m,\u001b[0m\u001b[0;34m\u001b[0m\u001b[0;34m\u001b[0m\u001b[0m\n\u001b[1;32m     13\u001b[0m         \u001b[0mgeneration_config\u001b[0m\u001b[0;34m=\u001b[0m\u001b[0mgeneration_config\u001b[0m\u001b[0;34m,\u001b[0m\u001b[0;34m\u001b[0m\u001b[0;34m\u001b[0m\u001b[0m\n",
            "\u001b[0;32m/usr/local/lib/python3.9/dist-packages/peft/peft_model.py\u001b[0m in \u001b[0;36mgenerate\u001b[0;34m(self, **kwargs)\u001b[0m\n\u001b[1;32m    579\u001b[0m         \u001b[0;32mtry\u001b[0m\u001b[0;34m:\u001b[0m\u001b[0;34m\u001b[0m\u001b[0;34m\u001b[0m\u001b[0m\n\u001b[1;32m    580\u001b[0m             \u001b[0;32mif\u001b[0m \u001b[0;32mnot\u001b[0m \u001b[0misinstance\u001b[0m\u001b[0;34m(\u001b[0m\u001b[0mself\u001b[0m\u001b[0;34m.\u001b[0m\u001b[0mpeft_config\u001b[0m\u001b[0;34m,\u001b[0m \u001b[0mPromptLearningConfig\u001b[0m\u001b[0;34m)\u001b[0m\u001b[0;34m:\u001b[0m\u001b[0;34m\u001b[0m\u001b[0;34m\u001b[0m\u001b[0m\n\u001b[0;32m--> 581\u001b[0;31m                 \u001b[0moutputs\u001b[0m \u001b[0;34m=\u001b[0m \u001b[0mself\u001b[0m\u001b[0;34m.\u001b[0m\u001b[0mbase_model\u001b[0m\u001b[0;34m.\u001b[0m\u001b[0mgenerate\u001b[0m\u001b[0;34m(\u001b[0m\u001b[0;34m**\u001b[0m\u001b[0mkwargs\u001b[0m\u001b[0;34m)\u001b[0m\u001b[0;34m\u001b[0m\u001b[0;34m\u001b[0m\u001b[0m\n\u001b[0m\u001b[1;32m    582\u001b[0m             \u001b[0;32melse\u001b[0m\u001b[0;34m:\u001b[0m\u001b[0;34m\u001b[0m\u001b[0;34m\u001b[0m\u001b[0m\n\u001b[1;32m    583\u001b[0m                 \u001b[0;32mif\u001b[0m \u001b[0;34m\"input_ids\"\u001b[0m \u001b[0;32mnot\u001b[0m \u001b[0;32min\u001b[0m \u001b[0mkwargs\u001b[0m\u001b[0;34m:\u001b[0m\u001b[0;34m\u001b[0m\u001b[0;34m\u001b[0m\u001b[0m\n",
            "\u001b[0;32m/usr/local/lib/python3.9/dist-packages/torch/autograd/grad_mode.py\u001b[0m in \u001b[0;36mdecorate_context\u001b[0;34m(*args, **kwargs)\u001b[0m\n\u001b[1;32m     25\u001b[0m         \u001b[0;32mdef\u001b[0m \u001b[0mdecorate_context\u001b[0m\u001b[0;34m(\u001b[0m\u001b[0;34m*\u001b[0m\u001b[0margs\u001b[0m\u001b[0;34m,\u001b[0m \u001b[0;34m**\u001b[0m\u001b[0mkwargs\u001b[0m\u001b[0;34m)\u001b[0m\u001b[0;34m:\u001b[0m\u001b[0;34m\u001b[0m\u001b[0;34m\u001b[0m\u001b[0m\n\u001b[1;32m     26\u001b[0m             \u001b[0;32mwith\u001b[0m \u001b[0mself\u001b[0m\u001b[0;34m.\u001b[0m\u001b[0mclone\u001b[0m\u001b[0;34m(\u001b[0m\u001b[0;34m)\u001b[0m\u001b[0;34m:\u001b[0m\u001b[0;34m\u001b[0m\u001b[0;34m\u001b[0m\u001b[0m\n\u001b[0;32m---> 27\u001b[0;31m                 \u001b[0;32mreturn\u001b[0m \u001b[0mfunc\u001b[0m\u001b[0;34m(\u001b[0m\u001b[0;34m*\u001b[0m\u001b[0margs\u001b[0m\u001b[0;34m,\u001b[0m \u001b[0;34m**\u001b[0m\u001b[0mkwargs\u001b[0m\u001b[0;34m)\u001b[0m\u001b[0;34m\u001b[0m\u001b[0;34m\u001b[0m\u001b[0m\n\u001b[0m\u001b[1;32m     28\u001b[0m         \u001b[0;32mreturn\u001b[0m \u001b[0mcast\u001b[0m\u001b[0;34m(\u001b[0m\u001b[0mF\u001b[0m\u001b[0;34m,\u001b[0m \u001b[0mdecorate_context\u001b[0m\u001b[0;34m)\u001b[0m\u001b[0;34m\u001b[0m\u001b[0;34m\u001b[0m\u001b[0m\n\u001b[1;32m     29\u001b[0m \u001b[0;34m\u001b[0m\u001b[0m\n",
            "\u001b[0;32m/usr/local/lib/python3.9/dist-packages/transformers/generation/utils.py\u001b[0m in \u001b[0;36mgenerate\u001b[0;34m(self, inputs, generation_config, logits_processor, stopping_criteria, prefix_allowed_tokens_fn, synced_gpus, **kwargs)\u001b[0m\n\u001b[1;32m   1488\u001b[0m             )\n\u001b[1;32m   1489\u001b[0m             \u001b[0;31m# 13. run beam search\u001b[0m\u001b[0;34m\u001b[0m\u001b[0;34m\u001b[0m\u001b[0m\n\u001b[0;32m-> 1490\u001b[0;31m             return self.beam_search(\n\u001b[0m\u001b[1;32m   1491\u001b[0m                 \u001b[0minput_ids\u001b[0m\u001b[0;34m,\u001b[0m\u001b[0;34m\u001b[0m\u001b[0;34m\u001b[0m\u001b[0m\n\u001b[1;32m   1492\u001b[0m                 \u001b[0mbeam_scorer\u001b[0m\u001b[0;34m,\u001b[0m\u001b[0;34m\u001b[0m\u001b[0;34m\u001b[0m\u001b[0m\n",
            "\u001b[0;32m/usr/local/lib/python3.9/dist-packages/transformers/generation/utils.py\u001b[0m in \u001b[0;36mbeam_search\u001b[0;34m(self, input_ids, beam_scorer, logits_processor, stopping_criteria, max_length, pad_token_id, eos_token_id, output_attentions, output_hidden_states, output_scores, return_dict_in_generate, synced_gpus, **model_kwargs)\u001b[0m\n\u001b[1;32m   2747\u001b[0m             \u001b[0mmodel_inputs\u001b[0m \u001b[0;34m=\u001b[0m \u001b[0mself\u001b[0m\u001b[0;34m.\u001b[0m\u001b[0mprepare_inputs_for_generation\u001b[0m\u001b[0;34m(\u001b[0m\u001b[0minput_ids\u001b[0m\u001b[0;34m,\u001b[0m \u001b[0;34m**\u001b[0m\u001b[0mmodel_kwargs\u001b[0m\u001b[0;34m)\u001b[0m\u001b[0;34m\u001b[0m\u001b[0;34m\u001b[0m\u001b[0m\n\u001b[1;32m   2748\u001b[0m \u001b[0;34m\u001b[0m\u001b[0m\n\u001b[0;32m-> 2749\u001b[0;31m             outputs = self(\n\u001b[0m\u001b[1;32m   2750\u001b[0m                 \u001b[0;34m**\u001b[0m\u001b[0mmodel_inputs\u001b[0m\u001b[0;34m,\u001b[0m\u001b[0;34m\u001b[0m\u001b[0;34m\u001b[0m\u001b[0m\n\u001b[1;32m   2751\u001b[0m                 \u001b[0mreturn_dict\u001b[0m\u001b[0;34m=\u001b[0m\u001b[0;32mTrue\u001b[0m\u001b[0;34m,\u001b[0m\u001b[0;34m\u001b[0m\u001b[0;34m\u001b[0m\u001b[0m\n",
            "\u001b[0;32m/usr/local/lib/python3.9/dist-packages/torch/nn/modules/module.py\u001b[0m in \u001b[0;36m_call_impl\u001b[0;34m(self, *input, **kwargs)\u001b[0m\n\u001b[1;32m   1192\u001b[0m         if not (self._backward_hooks or self._forward_hooks or self._forward_pre_hooks or _global_backward_hooks\n\u001b[1;32m   1193\u001b[0m                 or _global_forward_hooks or _global_forward_pre_hooks):\n\u001b[0;32m-> 1194\u001b[0;31m             \u001b[0;32mreturn\u001b[0m \u001b[0mforward_call\u001b[0m\u001b[0;34m(\u001b[0m\u001b[0;34m*\u001b[0m\u001b[0minput\u001b[0m\u001b[0;34m,\u001b[0m \u001b[0;34m**\u001b[0m\u001b[0mkwargs\u001b[0m\u001b[0;34m)\u001b[0m\u001b[0;34m\u001b[0m\u001b[0;34m\u001b[0m\u001b[0m\n\u001b[0m\u001b[1;32m   1195\u001b[0m         \u001b[0;31m# Do not call functions when jit is used\u001b[0m\u001b[0;34m\u001b[0m\u001b[0;34m\u001b[0m\u001b[0m\n\u001b[1;32m   1196\u001b[0m         \u001b[0mfull_backward_hooks\u001b[0m\u001b[0;34m,\u001b[0m \u001b[0mnon_full_backward_hooks\u001b[0m \u001b[0;34m=\u001b[0m \u001b[0;34m[\u001b[0m\u001b[0;34m]\u001b[0m\u001b[0;34m,\u001b[0m \u001b[0;34m[\u001b[0m\u001b[0;34m]\u001b[0m\u001b[0;34m\u001b[0m\u001b[0;34m\u001b[0m\u001b[0m\n",
            "\u001b[0;32m/usr/local/lib/python3.9/dist-packages/accelerate/hooks.py\u001b[0m in \u001b[0;36mnew_forward\u001b[0;34m(*args, **kwargs)\u001b[0m\n\u001b[1;32m    163\u001b[0m                 \u001b[0moutput\u001b[0m \u001b[0;34m=\u001b[0m \u001b[0mold_forward\u001b[0m\u001b[0;34m(\u001b[0m\u001b[0;34m*\u001b[0m\u001b[0margs\u001b[0m\u001b[0;34m,\u001b[0m \u001b[0;34m**\u001b[0m\u001b[0mkwargs\u001b[0m\u001b[0;34m)\u001b[0m\u001b[0;34m\u001b[0m\u001b[0;34m\u001b[0m\u001b[0m\n\u001b[1;32m    164\u001b[0m         \u001b[0;32melse\u001b[0m\u001b[0;34m:\u001b[0m\u001b[0;34m\u001b[0m\u001b[0;34m\u001b[0m\u001b[0m\n\u001b[0;32m--> 165\u001b[0;31m             \u001b[0moutput\u001b[0m \u001b[0;34m=\u001b[0m \u001b[0mold_forward\u001b[0m\u001b[0;34m(\u001b[0m\u001b[0;34m*\u001b[0m\u001b[0margs\u001b[0m\u001b[0;34m,\u001b[0m \u001b[0;34m**\u001b[0m\u001b[0mkwargs\u001b[0m\u001b[0;34m)\u001b[0m\u001b[0;34m\u001b[0m\u001b[0;34m\u001b[0m\u001b[0m\n\u001b[0m\u001b[1;32m    166\u001b[0m         \u001b[0;32mreturn\u001b[0m \u001b[0mmodule\u001b[0m\u001b[0;34m.\u001b[0m\u001b[0m_hf_hook\u001b[0m\u001b[0;34m.\u001b[0m\u001b[0mpost_forward\u001b[0m\u001b[0;34m(\u001b[0m\u001b[0mmodule\u001b[0m\u001b[0;34m,\u001b[0m \u001b[0moutput\u001b[0m\u001b[0;34m)\u001b[0m\u001b[0;34m\u001b[0m\u001b[0;34m\u001b[0m\u001b[0m\n\u001b[1;32m    167\u001b[0m \u001b[0;34m\u001b[0m\u001b[0m\n",
            "\u001b[0;32m/usr/local/lib/python3.9/dist-packages/transformers/models/llama/modeling_llama.py\u001b[0m in \u001b[0;36mforward\u001b[0;34m(self, input_ids, attention_mask, past_key_values, inputs_embeds, labels, use_cache, output_attentions, output_hidden_states, return_dict)\u001b[0m\n\u001b[1;32m    768\u001b[0m \u001b[0;34m\u001b[0m\u001b[0m\n\u001b[1;32m    769\u001b[0m         \u001b[0;31m# decoder outputs consists of (dec_features, layer_state, dec_hidden, dec_attn)\u001b[0m\u001b[0;34m\u001b[0m\u001b[0;34m\u001b[0m\u001b[0m\n\u001b[0;32m--> 770\u001b[0;31m         outputs = self.model(\n\u001b[0m\u001b[1;32m    771\u001b[0m             \u001b[0minput_ids\u001b[0m\u001b[0;34m=\u001b[0m\u001b[0minput_ids\u001b[0m\u001b[0;34m,\u001b[0m\u001b[0;34m\u001b[0m\u001b[0;34m\u001b[0m\u001b[0m\n\u001b[1;32m    772\u001b[0m             \u001b[0mattention_mask\u001b[0m\u001b[0;34m=\u001b[0m\u001b[0mattention_mask\u001b[0m\u001b[0;34m,\u001b[0m\u001b[0;34m\u001b[0m\u001b[0;34m\u001b[0m\u001b[0m\n",
            "\u001b[0;32m/usr/local/lib/python3.9/dist-packages/torch/nn/modules/module.py\u001b[0m in \u001b[0;36m_call_impl\u001b[0;34m(self, *input, **kwargs)\u001b[0m\n\u001b[1;32m   1192\u001b[0m         if not (self._backward_hooks or self._forward_hooks or self._forward_pre_hooks or _global_backward_hooks\n\u001b[1;32m   1193\u001b[0m                 or _global_forward_hooks or _global_forward_pre_hooks):\n\u001b[0;32m-> 1194\u001b[0;31m             \u001b[0;32mreturn\u001b[0m \u001b[0mforward_call\u001b[0m\u001b[0;34m(\u001b[0m\u001b[0;34m*\u001b[0m\u001b[0minput\u001b[0m\u001b[0;34m,\u001b[0m \u001b[0;34m**\u001b[0m\u001b[0mkwargs\u001b[0m\u001b[0;34m)\u001b[0m\u001b[0;34m\u001b[0m\u001b[0;34m\u001b[0m\u001b[0m\n\u001b[0m\u001b[1;32m   1195\u001b[0m         \u001b[0;31m# Do not call functions when jit is used\u001b[0m\u001b[0;34m\u001b[0m\u001b[0;34m\u001b[0m\u001b[0m\n\u001b[1;32m   1196\u001b[0m         \u001b[0mfull_backward_hooks\u001b[0m\u001b[0;34m,\u001b[0m \u001b[0mnon_full_backward_hooks\u001b[0m \u001b[0;34m=\u001b[0m \u001b[0;34m[\u001b[0m\u001b[0;34m]\u001b[0m\u001b[0;34m,\u001b[0m \u001b[0;34m[\u001b[0m\u001b[0;34m]\u001b[0m\u001b[0;34m\u001b[0m\u001b[0;34m\u001b[0m\u001b[0m\n",
            "\u001b[0;32m/usr/local/lib/python3.9/dist-packages/accelerate/hooks.py\u001b[0m in \u001b[0;36mnew_forward\u001b[0;34m(*args, **kwargs)\u001b[0m\n\u001b[1;32m    163\u001b[0m                 \u001b[0moutput\u001b[0m \u001b[0;34m=\u001b[0m \u001b[0mold_forward\u001b[0m\u001b[0;34m(\u001b[0m\u001b[0;34m*\u001b[0m\u001b[0margs\u001b[0m\u001b[0;34m,\u001b[0m \u001b[0;34m**\u001b[0m\u001b[0mkwargs\u001b[0m\u001b[0;34m)\u001b[0m\u001b[0;34m\u001b[0m\u001b[0;34m\u001b[0m\u001b[0m\n\u001b[1;32m    164\u001b[0m         \u001b[0;32melse\u001b[0m\u001b[0;34m:\u001b[0m\u001b[0;34m\u001b[0m\u001b[0;34m\u001b[0m\u001b[0m\n\u001b[0;32m--> 165\u001b[0;31m             \u001b[0moutput\u001b[0m \u001b[0;34m=\u001b[0m \u001b[0mold_forward\u001b[0m\u001b[0;34m(\u001b[0m\u001b[0;34m*\u001b[0m\u001b[0margs\u001b[0m\u001b[0;34m,\u001b[0m \u001b[0;34m**\u001b[0m\u001b[0mkwargs\u001b[0m\u001b[0;34m)\u001b[0m\u001b[0;34m\u001b[0m\u001b[0;34m\u001b[0m\u001b[0m\n\u001b[0m\u001b[1;32m    166\u001b[0m         \u001b[0;32mreturn\u001b[0m \u001b[0mmodule\u001b[0m\u001b[0;34m.\u001b[0m\u001b[0m_hf_hook\u001b[0m\u001b[0;34m.\u001b[0m\u001b[0mpost_forward\u001b[0m\u001b[0;34m(\u001b[0m\u001b[0mmodule\u001b[0m\u001b[0;34m,\u001b[0m \u001b[0moutput\u001b[0m\u001b[0;34m)\u001b[0m\u001b[0;34m\u001b[0m\u001b[0;34m\u001b[0m\u001b[0m\n\u001b[1;32m    167\u001b[0m \u001b[0;34m\u001b[0m\u001b[0m\n",
            "\u001b[0;32m/usr/local/lib/python3.9/dist-packages/transformers/models/llama/modeling_llama.py\u001b[0m in \u001b[0;36mforward\u001b[0;34m(self, input_ids, attention_mask, past_key_values, inputs_embeds, use_cache, output_attentions, output_hidden_states, return_dict)\u001b[0m\n\u001b[1;32m    617\u001b[0m                 )\n\u001b[1;32m    618\u001b[0m             \u001b[0;32melse\u001b[0m\u001b[0;34m:\u001b[0m\u001b[0;34m\u001b[0m\u001b[0;34m\u001b[0m\u001b[0m\n\u001b[0;32m--> 619\u001b[0;31m                 layer_outputs = decoder_layer(\n\u001b[0m\u001b[1;32m    620\u001b[0m                     \u001b[0mhidden_states\u001b[0m\u001b[0;34m,\u001b[0m\u001b[0;34m\u001b[0m\u001b[0;34m\u001b[0m\u001b[0m\n\u001b[1;32m    621\u001b[0m                     \u001b[0mattention_mask\u001b[0m\u001b[0;34m=\u001b[0m\u001b[0mattention_mask\u001b[0m\u001b[0;34m,\u001b[0m\u001b[0;34m\u001b[0m\u001b[0;34m\u001b[0m\u001b[0m\n",
            "\u001b[0;32m/usr/local/lib/python3.9/dist-packages/torch/nn/modules/module.py\u001b[0m in \u001b[0;36m_call_impl\u001b[0;34m(self, *input, **kwargs)\u001b[0m\n\u001b[1;32m   1192\u001b[0m         if not (self._backward_hooks or self._forward_hooks or self._forward_pre_hooks or _global_backward_hooks\n\u001b[1;32m   1193\u001b[0m                 or _global_forward_hooks or _global_forward_pre_hooks):\n\u001b[0;32m-> 1194\u001b[0;31m             \u001b[0;32mreturn\u001b[0m \u001b[0mforward_call\u001b[0m\u001b[0;34m(\u001b[0m\u001b[0;34m*\u001b[0m\u001b[0minput\u001b[0m\u001b[0;34m,\u001b[0m \u001b[0;34m**\u001b[0m\u001b[0mkwargs\u001b[0m\u001b[0;34m)\u001b[0m\u001b[0;34m\u001b[0m\u001b[0;34m\u001b[0m\u001b[0m\n\u001b[0m\u001b[1;32m   1195\u001b[0m         \u001b[0;31m# Do not call functions when jit is used\u001b[0m\u001b[0;34m\u001b[0m\u001b[0;34m\u001b[0m\u001b[0m\n\u001b[1;32m   1196\u001b[0m         \u001b[0mfull_backward_hooks\u001b[0m\u001b[0;34m,\u001b[0m \u001b[0mnon_full_backward_hooks\u001b[0m \u001b[0;34m=\u001b[0m \u001b[0;34m[\u001b[0m\u001b[0;34m]\u001b[0m\u001b[0;34m,\u001b[0m \u001b[0;34m[\u001b[0m\u001b[0;34m]\u001b[0m\u001b[0;34m\u001b[0m\u001b[0;34m\u001b[0m\u001b[0m\n",
            "\u001b[0;32m/usr/local/lib/python3.9/dist-packages/accelerate/hooks.py\u001b[0m in \u001b[0;36mnew_forward\u001b[0;34m(*args, **kwargs)\u001b[0m\n\u001b[1;32m    163\u001b[0m                 \u001b[0moutput\u001b[0m \u001b[0;34m=\u001b[0m \u001b[0mold_forward\u001b[0m\u001b[0;34m(\u001b[0m\u001b[0;34m*\u001b[0m\u001b[0margs\u001b[0m\u001b[0;34m,\u001b[0m \u001b[0;34m**\u001b[0m\u001b[0mkwargs\u001b[0m\u001b[0;34m)\u001b[0m\u001b[0;34m\u001b[0m\u001b[0;34m\u001b[0m\u001b[0m\n\u001b[1;32m    164\u001b[0m         \u001b[0;32melse\u001b[0m\u001b[0;34m:\u001b[0m\u001b[0;34m\u001b[0m\u001b[0;34m\u001b[0m\u001b[0m\n\u001b[0;32m--> 165\u001b[0;31m             \u001b[0moutput\u001b[0m \u001b[0;34m=\u001b[0m \u001b[0mold_forward\u001b[0m\u001b[0;34m(\u001b[0m\u001b[0;34m*\u001b[0m\u001b[0margs\u001b[0m\u001b[0;34m,\u001b[0m \u001b[0;34m**\u001b[0m\u001b[0mkwargs\u001b[0m\u001b[0;34m)\u001b[0m\u001b[0;34m\u001b[0m\u001b[0;34m\u001b[0m\u001b[0m\n\u001b[0m\u001b[1;32m    166\u001b[0m         \u001b[0;32mreturn\u001b[0m \u001b[0mmodule\u001b[0m\u001b[0;34m.\u001b[0m\u001b[0m_hf_hook\u001b[0m\u001b[0;34m.\u001b[0m\u001b[0mpost_forward\u001b[0m\u001b[0;34m(\u001b[0m\u001b[0mmodule\u001b[0m\u001b[0;34m,\u001b[0m \u001b[0moutput\u001b[0m\u001b[0;34m)\u001b[0m\u001b[0;34m\u001b[0m\u001b[0;34m\u001b[0m\u001b[0m\n\u001b[1;32m    167\u001b[0m \u001b[0;34m\u001b[0m\u001b[0m\n",
            "\u001b[0;32m/usr/local/lib/python3.9/dist-packages/transformers/models/llama/modeling_llama.py\u001b[0m in \u001b[0;36mforward\u001b[0;34m(self, hidden_states, attention_mask, output_attentions, use_cache, past_key_value)\u001b[0m\n\u001b[1;32m    314\u001b[0m \u001b[0;34m\u001b[0m\u001b[0m\n\u001b[1;32m    315\u001b[0m         \u001b[0;31m# Self Attention\u001b[0m\u001b[0;34m\u001b[0m\u001b[0;34m\u001b[0m\u001b[0m\n\u001b[0;32m--> 316\u001b[0;31m         hidden_states, self_attn_weights, present_key_value = self.self_attn(\n\u001b[0m\u001b[1;32m    317\u001b[0m             \u001b[0mhidden_states\u001b[0m\u001b[0;34m=\u001b[0m\u001b[0mhidden_states\u001b[0m\u001b[0;34m,\u001b[0m\u001b[0;34m\u001b[0m\u001b[0;34m\u001b[0m\u001b[0m\n\u001b[1;32m    318\u001b[0m             \u001b[0mpast_key_value\u001b[0m\u001b[0;34m=\u001b[0m\u001b[0mpast_key_value\u001b[0m\u001b[0;34m,\u001b[0m\u001b[0;34m\u001b[0m\u001b[0;34m\u001b[0m\u001b[0m\n",
            "\u001b[0;32m/usr/local/lib/python3.9/dist-packages/torch/nn/modules/module.py\u001b[0m in \u001b[0;36m_call_impl\u001b[0;34m(self, *input, **kwargs)\u001b[0m\n\u001b[1;32m   1192\u001b[0m         if not (self._backward_hooks or self._forward_hooks or self._forward_pre_hooks or _global_backward_hooks\n\u001b[1;32m   1193\u001b[0m                 or _global_forward_hooks or _global_forward_pre_hooks):\n\u001b[0;32m-> 1194\u001b[0;31m             \u001b[0;32mreturn\u001b[0m \u001b[0mforward_call\u001b[0m\u001b[0;34m(\u001b[0m\u001b[0;34m*\u001b[0m\u001b[0minput\u001b[0m\u001b[0;34m,\u001b[0m \u001b[0;34m**\u001b[0m\u001b[0mkwargs\u001b[0m\u001b[0;34m)\u001b[0m\u001b[0;34m\u001b[0m\u001b[0;34m\u001b[0m\u001b[0m\n\u001b[0m\u001b[1;32m   1195\u001b[0m         \u001b[0;31m# Do not call functions when jit is used\u001b[0m\u001b[0;34m\u001b[0m\u001b[0;34m\u001b[0m\u001b[0m\n\u001b[1;32m   1196\u001b[0m         \u001b[0mfull_backward_hooks\u001b[0m\u001b[0;34m,\u001b[0m \u001b[0mnon_full_backward_hooks\u001b[0m \u001b[0;34m=\u001b[0m \u001b[0;34m[\u001b[0m\u001b[0;34m]\u001b[0m\u001b[0;34m,\u001b[0m \u001b[0;34m[\u001b[0m\u001b[0;34m]\u001b[0m\u001b[0;34m\u001b[0m\u001b[0;34m\u001b[0m\u001b[0m\n",
            "\u001b[0;32m/usr/local/lib/python3.9/dist-packages/accelerate/hooks.py\u001b[0m in \u001b[0;36mnew_forward\u001b[0;34m(*args, **kwargs)\u001b[0m\n\u001b[1;32m    163\u001b[0m                 \u001b[0moutput\u001b[0m \u001b[0;34m=\u001b[0m \u001b[0mold_forward\u001b[0m\u001b[0;34m(\u001b[0m\u001b[0;34m*\u001b[0m\u001b[0margs\u001b[0m\u001b[0;34m,\u001b[0m \u001b[0;34m**\u001b[0m\u001b[0mkwargs\u001b[0m\u001b[0;34m)\u001b[0m\u001b[0;34m\u001b[0m\u001b[0;34m\u001b[0m\u001b[0m\n\u001b[1;32m    164\u001b[0m         \u001b[0;32melse\u001b[0m\u001b[0;34m:\u001b[0m\u001b[0;34m\u001b[0m\u001b[0;34m\u001b[0m\u001b[0m\n\u001b[0;32m--> 165\u001b[0;31m             \u001b[0moutput\u001b[0m \u001b[0;34m=\u001b[0m \u001b[0mold_forward\u001b[0m\u001b[0;34m(\u001b[0m\u001b[0;34m*\u001b[0m\u001b[0margs\u001b[0m\u001b[0;34m,\u001b[0m \u001b[0;34m**\u001b[0m\u001b[0mkwargs\u001b[0m\u001b[0;34m)\u001b[0m\u001b[0;34m\u001b[0m\u001b[0;34m\u001b[0m\u001b[0m\n\u001b[0m\u001b[1;32m    166\u001b[0m         \u001b[0;32mreturn\u001b[0m \u001b[0mmodule\u001b[0m\u001b[0;34m.\u001b[0m\u001b[0m_hf_hook\u001b[0m\u001b[0;34m.\u001b[0m\u001b[0mpost_forward\u001b[0m\u001b[0;34m(\u001b[0m\u001b[0mmodule\u001b[0m\u001b[0;34m,\u001b[0m \u001b[0moutput\u001b[0m\u001b[0;34m)\u001b[0m\u001b[0;34m\u001b[0m\u001b[0;34m\u001b[0m\u001b[0m\n\u001b[1;32m    167\u001b[0m \u001b[0;34m\u001b[0m\u001b[0m\n",
            "\u001b[0;32m/usr/local/lib/python3.9/dist-packages/transformers/models/llama/modeling_llama.py\u001b[0m in \u001b[0;36mforward\u001b[0;34m(self, hidden_states, past_key_value, attention_mask, output_attentions)\u001b[0m\n\u001b[1;32m    215\u001b[0m \u001b[0;34m\u001b[0m\u001b[0m\n\u001b[1;32m    216\u001b[0m         \u001b[0mquery_states\u001b[0m \u001b[0;34m=\u001b[0m \u001b[0mself\u001b[0m\u001b[0;34m.\u001b[0m\u001b[0mq_proj\u001b[0m\u001b[0;34m(\u001b[0m\u001b[0mhidden_states\u001b[0m\u001b[0;34m)\u001b[0m\u001b[0;34m.\u001b[0m\u001b[0mview\u001b[0m\u001b[0;34m(\u001b[0m\u001b[0mbsz\u001b[0m\u001b[0;34m,\u001b[0m \u001b[0mq_len\u001b[0m\u001b[0;34m,\u001b[0m \u001b[0mself\u001b[0m\u001b[0;34m.\u001b[0m\u001b[0mnum_heads\u001b[0m\u001b[0;34m,\u001b[0m \u001b[0mself\u001b[0m\u001b[0;34m.\u001b[0m\u001b[0mhead_dim\u001b[0m\u001b[0;34m)\u001b[0m\u001b[0;34m.\u001b[0m\u001b[0mtranspose\u001b[0m\u001b[0;34m(\u001b[0m\u001b[0;36m1\u001b[0m\u001b[0;34m,\u001b[0m \u001b[0;36m2\u001b[0m\u001b[0;34m)\u001b[0m\u001b[0;34m\u001b[0m\u001b[0;34m\u001b[0m\u001b[0m\n\u001b[0;32m--> 217\u001b[0;31m         \u001b[0mkey_states\u001b[0m \u001b[0;34m=\u001b[0m \u001b[0mself\u001b[0m\u001b[0;34m.\u001b[0m\u001b[0mk_proj\u001b[0m\u001b[0;34m(\u001b[0m\u001b[0mhidden_states\u001b[0m\u001b[0;34m)\u001b[0m\u001b[0;34m.\u001b[0m\u001b[0mview\u001b[0m\u001b[0;34m(\u001b[0m\u001b[0mbsz\u001b[0m\u001b[0;34m,\u001b[0m \u001b[0mq_len\u001b[0m\u001b[0;34m,\u001b[0m \u001b[0mself\u001b[0m\u001b[0;34m.\u001b[0m\u001b[0mnum_heads\u001b[0m\u001b[0;34m,\u001b[0m \u001b[0mself\u001b[0m\u001b[0;34m.\u001b[0m\u001b[0mhead_dim\u001b[0m\u001b[0;34m)\u001b[0m\u001b[0;34m.\u001b[0m\u001b[0mtranspose\u001b[0m\u001b[0;34m(\u001b[0m\u001b[0;36m1\u001b[0m\u001b[0;34m,\u001b[0m \u001b[0;36m2\u001b[0m\u001b[0;34m)\u001b[0m\u001b[0;34m\u001b[0m\u001b[0;34m\u001b[0m\u001b[0m\n\u001b[0m\u001b[1;32m    218\u001b[0m         \u001b[0mvalue_states\u001b[0m \u001b[0;34m=\u001b[0m \u001b[0mself\u001b[0m\u001b[0;34m.\u001b[0m\u001b[0mv_proj\u001b[0m\u001b[0;34m(\u001b[0m\u001b[0mhidden_states\u001b[0m\u001b[0;34m)\u001b[0m\u001b[0;34m.\u001b[0m\u001b[0mview\u001b[0m\u001b[0;34m(\u001b[0m\u001b[0mbsz\u001b[0m\u001b[0;34m,\u001b[0m \u001b[0mq_len\u001b[0m\u001b[0;34m,\u001b[0m \u001b[0mself\u001b[0m\u001b[0;34m.\u001b[0m\u001b[0mnum_heads\u001b[0m\u001b[0;34m,\u001b[0m \u001b[0mself\u001b[0m\u001b[0;34m.\u001b[0m\u001b[0mhead_dim\u001b[0m\u001b[0;34m)\u001b[0m\u001b[0;34m.\u001b[0m\u001b[0mtranspose\u001b[0m\u001b[0;34m(\u001b[0m\u001b[0;36m1\u001b[0m\u001b[0;34m,\u001b[0m \u001b[0;36m2\u001b[0m\u001b[0;34m)\u001b[0m\u001b[0;34m\u001b[0m\u001b[0;34m\u001b[0m\u001b[0m\n\u001b[1;32m    219\u001b[0m \u001b[0;34m\u001b[0m\u001b[0m\n",
            "\u001b[0;32m/usr/local/lib/python3.9/dist-packages/torch/nn/modules/module.py\u001b[0m in \u001b[0;36m_call_impl\u001b[0;34m(self, *input, **kwargs)\u001b[0m\n\u001b[1;32m   1192\u001b[0m         if not (self._backward_hooks or self._forward_hooks or self._forward_pre_hooks or _global_backward_hooks\n\u001b[1;32m   1193\u001b[0m                 or _global_forward_hooks or _global_forward_pre_hooks):\n\u001b[0;32m-> 1194\u001b[0;31m             \u001b[0;32mreturn\u001b[0m \u001b[0mforward_call\u001b[0m\u001b[0;34m(\u001b[0m\u001b[0;34m*\u001b[0m\u001b[0minput\u001b[0m\u001b[0;34m,\u001b[0m \u001b[0;34m**\u001b[0m\u001b[0mkwargs\u001b[0m\u001b[0;34m)\u001b[0m\u001b[0;34m\u001b[0m\u001b[0;34m\u001b[0m\u001b[0m\n\u001b[0m\u001b[1;32m   1195\u001b[0m         \u001b[0;31m# Do not call functions when jit is used\u001b[0m\u001b[0;34m\u001b[0m\u001b[0;34m\u001b[0m\u001b[0m\n\u001b[1;32m   1196\u001b[0m         \u001b[0mfull_backward_hooks\u001b[0m\u001b[0;34m,\u001b[0m \u001b[0mnon_full_backward_hooks\u001b[0m \u001b[0;34m=\u001b[0m \u001b[0;34m[\u001b[0m\u001b[0;34m]\u001b[0m\u001b[0;34m,\u001b[0m \u001b[0;34m[\u001b[0m\u001b[0;34m]\u001b[0m\u001b[0;34m\u001b[0m\u001b[0;34m\u001b[0m\u001b[0m\n",
            "\u001b[0;32m/usr/local/lib/python3.9/dist-packages/accelerate/hooks.py\u001b[0m in \u001b[0;36mnew_forward\u001b[0;34m(*args, **kwargs)\u001b[0m\n\u001b[1;32m    163\u001b[0m                 \u001b[0moutput\u001b[0m \u001b[0;34m=\u001b[0m \u001b[0mold_forward\u001b[0m\u001b[0;34m(\u001b[0m\u001b[0;34m*\u001b[0m\u001b[0margs\u001b[0m\u001b[0;34m,\u001b[0m \u001b[0;34m**\u001b[0m\u001b[0mkwargs\u001b[0m\u001b[0;34m)\u001b[0m\u001b[0;34m\u001b[0m\u001b[0;34m\u001b[0m\u001b[0m\n\u001b[1;32m    164\u001b[0m         \u001b[0;32melse\u001b[0m\u001b[0;34m:\u001b[0m\u001b[0;34m\u001b[0m\u001b[0;34m\u001b[0m\u001b[0m\n\u001b[0;32m--> 165\u001b[0;31m             \u001b[0moutput\u001b[0m \u001b[0;34m=\u001b[0m \u001b[0mold_forward\u001b[0m\u001b[0;34m(\u001b[0m\u001b[0;34m*\u001b[0m\u001b[0margs\u001b[0m\u001b[0;34m,\u001b[0m \u001b[0;34m**\u001b[0m\u001b[0mkwargs\u001b[0m\u001b[0;34m)\u001b[0m\u001b[0;34m\u001b[0m\u001b[0;34m\u001b[0m\u001b[0m\n\u001b[0m\u001b[1;32m    166\u001b[0m         \u001b[0;32mreturn\u001b[0m \u001b[0mmodule\u001b[0m\u001b[0;34m.\u001b[0m\u001b[0m_hf_hook\u001b[0m\u001b[0;34m.\u001b[0m\u001b[0mpost_forward\u001b[0m\u001b[0;34m(\u001b[0m\u001b[0mmodule\u001b[0m\u001b[0;34m,\u001b[0m \u001b[0moutput\u001b[0m\u001b[0;34m)\u001b[0m\u001b[0;34m\u001b[0m\u001b[0;34m\u001b[0m\u001b[0m\n\u001b[1;32m    167\u001b[0m \u001b[0;34m\u001b[0m\u001b[0m\n",
            "\u001b[0;32m/usr/local/lib/python3.9/dist-packages/bitsandbytes/nn/modules.py\u001b[0m in \u001b[0;36mforward\u001b[0;34m(self, x)\u001b[0m\n\u001b[1;32m    240\u001b[0m             \u001b[0mself\u001b[0m\u001b[0;34m.\u001b[0m\u001b[0mbias\u001b[0m\u001b[0;34m.\u001b[0m\u001b[0mdata\u001b[0m \u001b[0;34m=\u001b[0m \u001b[0mself\u001b[0m\u001b[0;34m.\u001b[0m\u001b[0mbias\u001b[0m\u001b[0;34m.\u001b[0m\u001b[0mdata\u001b[0m\u001b[0;34m.\u001b[0m\u001b[0mto\u001b[0m\u001b[0;34m(\u001b[0m\u001b[0mx\u001b[0m\u001b[0;34m.\u001b[0m\u001b[0mdtype\u001b[0m\u001b[0;34m)\u001b[0m\u001b[0;34m\u001b[0m\u001b[0;34m\u001b[0m\u001b[0m\n\u001b[1;32m    241\u001b[0m \u001b[0;34m\u001b[0m\u001b[0m\n\u001b[0;32m--> 242\u001b[0;31m         \u001b[0mout\u001b[0m \u001b[0;34m=\u001b[0m \u001b[0mbnb\u001b[0m\u001b[0;34m.\u001b[0m\u001b[0mmatmul\u001b[0m\u001b[0;34m(\u001b[0m\u001b[0mx\u001b[0m\u001b[0;34m,\u001b[0m \u001b[0mself\u001b[0m\u001b[0;34m.\u001b[0m\u001b[0mweight\u001b[0m\u001b[0;34m,\u001b[0m \u001b[0mbias\u001b[0m\u001b[0;34m=\u001b[0m\u001b[0mself\u001b[0m\u001b[0;34m.\u001b[0m\u001b[0mbias\u001b[0m\u001b[0;34m,\u001b[0m \u001b[0mstate\u001b[0m\u001b[0;34m=\u001b[0m\u001b[0mself\u001b[0m\u001b[0;34m.\u001b[0m\u001b[0mstate\u001b[0m\u001b[0;34m)\u001b[0m\u001b[0;34m\u001b[0m\u001b[0;34m\u001b[0m\u001b[0m\n\u001b[0m\u001b[1;32m    243\u001b[0m         \u001b[0;32mif\u001b[0m \u001b[0;32mnot\u001b[0m \u001b[0mself\u001b[0m\u001b[0;34m.\u001b[0m\u001b[0mstate\u001b[0m\u001b[0;34m.\u001b[0m\u001b[0mhas_fp16_weights\u001b[0m\u001b[0;34m:\u001b[0m\u001b[0;34m\u001b[0m\u001b[0;34m\u001b[0m\u001b[0m\n\u001b[1;32m    244\u001b[0m             \u001b[0;32mif\u001b[0m \u001b[0mself\u001b[0m\u001b[0;34m.\u001b[0m\u001b[0mstate\u001b[0m\u001b[0;34m.\u001b[0m\u001b[0mCB\u001b[0m \u001b[0;32mis\u001b[0m \u001b[0;32mnot\u001b[0m \u001b[0;32mNone\u001b[0m \u001b[0;32mand\u001b[0m \u001b[0mself\u001b[0m\u001b[0;34m.\u001b[0m\u001b[0mstate\u001b[0m\u001b[0;34m.\u001b[0m\u001b[0mCxB\u001b[0m \u001b[0;32mis\u001b[0m \u001b[0;32mnot\u001b[0m \u001b[0;32mNone\u001b[0m\u001b[0;34m:\u001b[0m\u001b[0;34m\u001b[0m\u001b[0;34m\u001b[0m\u001b[0m\n",
            "\u001b[0;32m/usr/local/lib/python3.9/dist-packages/bitsandbytes/autograd/_functions.py\u001b[0m in \u001b[0;36mmatmul\u001b[0;34m(A, B, out, state, threshold, bias)\u001b[0m\n\u001b[1;32m    486\u001b[0m     \u001b[0;32mif\u001b[0m \u001b[0mthreshold\u001b[0m \u001b[0;34m>\u001b[0m \u001b[0;36m0.0\u001b[0m\u001b[0;34m:\u001b[0m\u001b[0;34m\u001b[0m\u001b[0;34m\u001b[0m\u001b[0m\n\u001b[1;32m    487\u001b[0m         \u001b[0mstate\u001b[0m\u001b[0;34m.\u001b[0m\u001b[0mthreshold\u001b[0m \u001b[0;34m=\u001b[0m \u001b[0mthreshold\u001b[0m\u001b[0;34m\u001b[0m\u001b[0;34m\u001b[0m\u001b[0m\n\u001b[0;32m--> 488\u001b[0;31m     \u001b[0;32mreturn\u001b[0m \u001b[0mMatMul8bitLt\u001b[0m\u001b[0;34m.\u001b[0m\u001b[0mapply\u001b[0m\u001b[0;34m(\u001b[0m\u001b[0mA\u001b[0m\u001b[0;34m,\u001b[0m \u001b[0mB\u001b[0m\u001b[0;34m,\u001b[0m \u001b[0mout\u001b[0m\u001b[0;34m,\u001b[0m \u001b[0mbias\u001b[0m\u001b[0;34m,\u001b[0m \u001b[0mstate\u001b[0m\u001b[0;34m)\u001b[0m\u001b[0;34m\u001b[0m\u001b[0;34m\u001b[0m\u001b[0m\n\u001b[0m",
            "\u001b[0;32m/usr/local/lib/python3.9/dist-packages/bitsandbytes/autograd/_functions.py\u001b[0m in \u001b[0;36mforward\u001b[0;34m(ctx, A, B, out, bias, state)\u001b[0m\n\u001b[1;32m    360\u001b[0m                 \u001b[0moutliers\u001b[0m \u001b[0;34m=\u001b[0m \u001b[0mstate\u001b[0m\u001b[0;34m.\u001b[0m\u001b[0mCB\u001b[0m\u001b[0;34m[\u001b[0m\u001b[0;34m:\u001b[0m\u001b[0;34m,\u001b[0m \u001b[0mstate\u001b[0m\u001b[0;34m.\u001b[0m\u001b[0midx\u001b[0m\u001b[0;34m.\u001b[0m\u001b[0mlong\u001b[0m\u001b[0;34m(\u001b[0m\u001b[0;34m)\u001b[0m\u001b[0;34m]\u001b[0m\u001b[0;34m.\u001b[0m\u001b[0mclone\u001b[0m\u001b[0;34m(\u001b[0m\u001b[0;34m)\u001b[0m\u001b[0;34m\u001b[0m\u001b[0;34m\u001b[0m\u001b[0m\n\u001b[1;32m    361\u001b[0m \u001b[0;34m\u001b[0m\u001b[0m\n\u001b[0;32m--> 362\u001b[0;31m             \u001b[0mstate\u001b[0m\u001b[0;34m.\u001b[0m\u001b[0msubB\u001b[0m \u001b[0;34m=\u001b[0m \u001b[0;34m(\u001b[0m\u001b[0moutliers\u001b[0m \u001b[0;34m*\u001b[0m \u001b[0mstate\u001b[0m\u001b[0;34m.\u001b[0m\u001b[0mSCB\u001b[0m\u001b[0;34m.\u001b[0m\u001b[0mview\u001b[0m\u001b[0;34m(\u001b[0m\u001b[0;34m-\u001b[0m\u001b[0;36m1\u001b[0m\u001b[0;34m,\u001b[0m \u001b[0;36m1\u001b[0m\u001b[0;34m)\u001b[0m \u001b[0;34m/\u001b[0m \u001b[0;36m127.0\u001b[0m\u001b[0;34m)\u001b[0m\u001b[0;34m.\u001b[0m\u001b[0mt\u001b[0m\u001b[0;34m(\u001b[0m\u001b[0;34m)\u001b[0m\u001b[0;34m.\u001b[0m\u001b[0mcontiguous\u001b[0m\u001b[0;34m(\u001b[0m\u001b[0;34m)\u001b[0m\u001b[0;34m.\u001b[0m\u001b[0mto\u001b[0m\u001b[0;34m(\u001b[0m\u001b[0mA\u001b[0m\u001b[0;34m.\u001b[0m\u001b[0mdtype\u001b[0m\u001b[0;34m)\u001b[0m\u001b[0;34m\u001b[0m\u001b[0;34m\u001b[0m\u001b[0m\n\u001b[0m\u001b[1;32m    363\u001b[0m             \u001b[0mCA\u001b[0m\u001b[0;34m[\u001b[0m\u001b[0;34m:\u001b[0m\u001b[0;34m,\u001b[0m \u001b[0mstate\u001b[0m\u001b[0;34m.\u001b[0m\u001b[0midx\u001b[0m\u001b[0;34m.\u001b[0m\u001b[0mlong\u001b[0m\u001b[0;34m(\u001b[0m\u001b[0;34m)\u001b[0m\u001b[0;34m]\u001b[0m \u001b[0;34m=\u001b[0m \u001b[0;36m0\u001b[0m\u001b[0;34m\u001b[0m\u001b[0;34m\u001b[0m\u001b[0m\n\u001b[1;32m    364\u001b[0m             \u001b[0mCAt\u001b[0m\u001b[0;34m[\u001b[0m\u001b[0;34m:\u001b[0m\u001b[0;34m,\u001b[0m \u001b[0mstate\u001b[0m\u001b[0;34m.\u001b[0m\u001b[0midx\u001b[0m\u001b[0;34m.\u001b[0m\u001b[0mlong\u001b[0m\u001b[0;34m(\u001b[0m\u001b[0;34m)\u001b[0m\u001b[0;34m]\u001b[0m \u001b[0;34m=\u001b[0m \u001b[0;36m0\u001b[0m\u001b[0;34m\u001b[0m\u001b[0;34m\u001b[0m\u001b[0m\n",
            "\u001b[0;31mKeyboardInterrupt\u001b[0m: "
          ]
        }
      ]
    },
    {
      "cell_type": "code",
      "source": [
        "import json\n",
        "from deep_translator import GoogleTranslator\n",
        "\n",
        "\n",
        "f_articles = open('articles.json')\n",
        "f_videos = open('videos.json')\n",
        "\n",
        "articles_data = json.load(f_articles)\n",
        "videos_data = json.load(f_videos)\n",
        "\n",
        "article_ids = list(article_id for article_id in articles_data.keys())\n",
        "video_ids = list(video_id for video_id in videos_data.keys())\n",
        "\n",
        "def article_keywords(id):\n",
        "\treturn articles_data[id][\"keywords\"]\n",
        "\n",
        "def video_keywords(id):\n",
        "\treturn videos_data[id][\"keywords\"]\n",
        "\n",
        "def article_text(id):\n",
        "\treturn articles_data[id][\"text\"]\n",
        "\n",
        "def video_text(id):\n",
        "\treturn videos_data[id][\"text\"]\n",
        "\n",
        "# translated = GoogleTranslator(source='es', target='en').translate(text)\n",
        "\n",
        "article = ' '.join(article_text(article_ids[0]))\n",
        "en_article = GoogleTranslator(source='es', target='en').translate(article)\n",
        "\n",
        "for i in range(0, len(video_ids)):\n",
        "  en_video = GoogleTranslator(source='es', target='en').translate(' '.join(video_text(video_ids[i])))\n",
        "  print(f\"{i}.     \")\n",
        "  evaluate(f'''is this text \"{en_article}\" related to this other text \"{en_video}\"''')"
      ],
      "metadata": {
        "id": "_XcgIIg7mQXs"
      },
      "execution_count": null,
      "outputs": []
    }
  ]
}