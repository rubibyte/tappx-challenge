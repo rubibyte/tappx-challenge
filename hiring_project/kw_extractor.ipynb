{
  "nbformat": 4,
  "nbformat_minor": 0,
  "metadata": {
    "colab": {
      "provenance": [],
      "authorship_tag": "ABX9TyMAE9u9Dx0lXfm/ArQNNPlc",
      "include_colab_link": true
    },
    "kernelspec": {
      "name": "python3",
      "display_name": "Python 3"
    },
    "language_info": {
      "name": "python"
    }
  },
  "cells": [
    {
      "cell_type": "markdown",
      "metadata": {
        "id": "view-in-github",
        "colab_type": "text"
      },
      "source": [
        "<a href=\"https://colab.research.google.com/github/xavirubi/tappx-challenge/blob/master/hiring_project/kw_extractor.ipynb\" target=\"_parent\"><img src=\"https://colab.research.google.com/assets/colab-badge.svg\" alt=\"Open In Colab\"/></a>"
      ]
    },
    {
      "cell_type": "code",
      "execution_count": null,
      "metadata": {
        "id": "LVL79AKfkQGv"
      },
      "outputs": [],
      "source": [
        "!pip install -U keybert"
      ]
    },
    {
      "cell_type": "code",
      "source": [
        "!pip install -U rake-nltk"
      ],
      "metadata": {
        "id": "jdhdwsgEAIRQ"
      },
      "execution_count": null,
      "outputs": []
    },
    {
      "cell_type": "code",
      "source": [
        "!pip install -U yake"
      ],
      "metadata": {
        "id": "DeWWVDL1Y3t-"
      },
      "execution_count": null,
      "outputs": []
    },
    {
      "cell_type": "code",
      "source": [
        "!pip install -U gensim"
      ],
      "metadata": {
        "id": "NWGPuBpznMle"
      },
      "execution_count": null,
      "outputs": []
    },
    {
      "cell_type": "code",
      "source": [
        "!pip install -U spacy"
      ],
      "metadata": {
        "id": "S_-JJvgxDt-v"
      },
      "execution_count": null,
      "outputs": []
    },
    {
      "cell_type": "code",
      "source": [
        "!python -m spacy download es_core_news_lg"
      ],
      "metadata": {
        "id": "JBgUx4ceEvwv"
      },
      "execution_count": null,
      "outputs": []
    },
    {
      "cell_type": "code",
      "source": [
        "import json\n",
        "# from keybert import KeyBERT\n",
        "# from rake_nltk import Rake\n",
        "import nltk\n",
        "# import yake\n",
        "from gensim.models import Word2Vec\n",
        "\n",
        "nltk.download('stopwords')\n",
        "nltk.download('punkt')"
      ],
      "metadata": {
        "id": "9q7g2rJMkV-4"
      },
      "execution_count": null,
      "outputs": []
    },
    {
      "cell_type": "code",
      "source": [
        "f_articles = open('articles.json')\n",
        "f_videos = open('videos.json')\n",
        "\n",
        "# articles_data = json.load(f_articles)\n",
        "# videos_data = json.load(f_videos)\n",
        "\n",
        "# article_ids = list(article_id for article_id in articles_data.keys())\n",
        "# video_ids = list(video_id for video_id in videos_data.keys())"
      ],
      "metadata": {
        "id": "sfCcPwN3KVoU"
      },
      "execution_count": 7,
      "outputs": []
    },
    {
      "cell_type": "code",
      "source": [
        "def article_text(id):\n",
        "\treturn articles_data[id][\"text\"]\n",
        "\n",
        "def video_text(id):\n",
        "\treturn videos_data[id][\"text\"]\n",
        "\n",
        "def article_keywords(id):\n",
        "\treturn articles_data[id][\"keywords\"]\n",
        "\n",
        "def video_keywords(id):\n",
        "\treturn videos_data[id][\"keywords\"]"
      ],
      "metadata": {
        "id": "HLuiT4stKzZW"
      },
      "execution_count": null,
      "outputs": []
    },
    {
      "cell_type": "code",
      "source": [
        "kw_model = KeyBERT()\n",
        "def keybert_keywords(text):\n",
        "  return kw_model.extract_keywords(text, keyphrase_ngram_range=(1, 3))"
      ],
      "metadata": {
        "id": "1FUsvWjVKnG_"
      },
      "execution_count": null,
      "outputs": []
    },
    {
      "cell_type": "code",
      "source": [
        "rake_model = Rake()\n",
        "def rake_keywords(text):\n",
        "  kw_extracted = rake_model.extract_keywords_from_text(text)\n",
        "  return rake_model.get_ranked_phrases_with_scores()"
      ],
      "metadata": {
        "id": "A2Xf4od5BWHY"
      },
      "execution_count": null,
      "outputs": []
    },
    {
      "cell_type": "code",
      "source": [
        "def yake_keywords(text):\n",
        "  kw_extractor = yake.KeywordExtractor(lan='en', n=3)\n",
        "  return kw_extractor.extract_keywords(text)"
      ],
      "metadata": {
        "id": "5VYG-4faZJD4"
      },
      "execution_count": null,
      "outputs": []
    },
    {
      "cell_type": "code",
      "source": [
        "for id in article_ids:\n",
        "  print(f'''TEXT FROM ARTICLE {id}:\n",
        "  {article_text(id)}\n",
        "''')\n",
        "  print(f'''KEYWORDS FROM ARTICLE {id}:\n",
        "  {article_keywords(id)}\n",
        "''')\n",
        "  print(f'''KEYBERT KEYWORDS FROM ARTICLE {id}:\n",
        "{keybert_keywords(article_text(id))}\n",
        "''')\n",
        "\n",
        "  print(f'''RAKE KEYWORDS FROM ARTICLE {id}:\n",
        "{rake_keywords(article_text(id))}\n",
        "''')\n",
        "\n",
        "  print(f'''YAKE KEYWORDS FROM ARTICLE {id}:\n",
        "{yake_keywords(article_text(id))}\n",
        "\n",
        "\n",
        "\n",
        "-----------------------------------------------------------------------------------------------------\n",
        "''')\n",
        "\n",
        "f_articles.close()"
      ],
      "metadata": {
        "id": "dPkA4OBHLNrv"
      },
      "execution_count": null,
      "outputs": []
    },
    {
      "cell_type": "code",
      "source": [
        "corpus1 = article_keywords(article_ids[0])\n",
        "# corpus2 = article_keywords(article_ids[7])\n",
        "# print(f\"CORPUS 1: {corpus1}\\n\\nCORPUS 2: {corpus2}\\n--------------------------------------------------------------\\n\\n\")\n",
        "\n",
        "model = Word2Vec(corpus1, window=5, min_count=1, workers=4)\n",
        "\n",
        "model = Word2Vec(corpus1)"
      ],
      "metadata": {
        "id": "sC66ihTYnzB5"
      },
      "execution_count": null,
      "outputs": []
    },
    {
      "cell_type": "code",
      "source": [
        "for i in range(0, len(video_ids)):\n",
        "  corpus2 = video_keywords(video_ids[i])\n",
        "  similarity_score = model.wv.n_similarity(corpus1, corpus2)\n",
        "  print(f\"SIMILARITY SCORE: {similarity_score}\\n\")"
      ],
      "metadata": {
        "id": "kiU5g4w4osW8"
      },
      "execution_count": null,
      "outputs": []
    },
    {
      "cell_type": "code",
      "source": [
        "import spacy\n",
        "\n",
        "nlp = spacy.load(\"es_core_news_lg\")\n",
        "doc1 = nlp(article_text(article_ids[1]))\n",
        "# doc2 = nlp(video_text(video_ids[0]))\n",
        "print(article_keywords(article_ids[1]))\n",
        "# Similarity of two documents\n",
        "for i in range(0, len(video_ids)):\n",
        "  doc2 = nlp(video_text(video_ids[i]))\n",
        "  print(i, doc1.similarity(doc2), video_keywords(video_ids[i]))\n"
      ],
      "metadata": {
        "id": "hgFlLNnwHxE-"
      },
      "execution_count": null,
      "outputs": []
    },
    {
      "cell_type": "code",
      "source": [
        "print(article_keywords(article_ids[0]))\n",
        "\n",
        "def score_func(article_kws, video_kws):\n",
        "  score = 0\n",
        "  for article_kw in article_kws:\n",
        "    for video_kw in video_kws:\n",
        "      score += nlp(article_kw).similarity(nlp(video_kw))\n",
        "  return score\n",
        "\n",
        "for i in range(0, len(video_ids)):\n",
        "  score = score_func(article_keywords(article_ids[0]), video_keywords(video_ids[i]))\n",
        "  print(i, score, video_keywords(video_ids[i]), end='\\n\\n')\n"
      ],
      "metadata": {
        "id": "zPIp0wuiMFIQ"
      },
      "execution_count": null,
      "outputs": []
    },
    {
      "cell_type": "code",
      "source": [
        "from transformers import pipeline\n",
        "classifier = pipeline(\"zero-shot-classification\",\n",
        "                      model=\"facebook/bart-large-mnli\")\n"
      ],
      "metadata": {
        "id": "dxgTNWcDod_B"
      },
      "execution_count": null,
      "outputs": []
    },
    {
      "cell_type": "code",
      "source": [
        "candidate_labels = article_keywords(article_ids[0])\n",
        "\n",
        "for i in range(0, len(video_ids)):\n",
        "  sequence_to_classify = video_text(video_ids[i])\n",
        "  print(classifier(sequence_to_classify, candidate_labels, multi_label=True))\n",
        "\n",
        "#{'labels': ['travel', 'exploration', 'dancing', 'cooking'],\n",
        "# 'scores': [0.9945111274719238,\n",
        "#  0.9383890628814697,\n",
        "#  0.0057061901316046715,\n",
        "#  0.0018193122232332826],\n",
        "# 'sequence': 'one day I will see the world'}\n"
      ],
      "metadata": {
        "id": "cl0_DVvfo2kb"
      },
      "execution_count": null,
      "outputs": []
    },
    {
      "cell_type": "code",
      "source": [
        "!pip install scikit-learn"
      ],
      "metadata": {
        "id": "DVBsEkmTJVxH"
      },
      "execution_count": null,
      "outputs": []
    },
    {
      "cell_type": "code",
      "source": [
        "import json\n",
        "from collections import defaultdict\n",
        "from typing import List, Dict\n",
        "from sklearn.feature_extraction.text import TfidfVectorizer\n",
        "from sklearn.metrics.pairwise import cosine_similarity\n"
      ],
      "metadata": {
        "id": "47qUvI6fH03_"
      },
      "execution_count": 9,
      "outputs": []
    },
    {
      "cell_type": "code",
      "source": [
        "def article_keywords_to_string(article: Dict) -> str:\n",
        "    return \" \".join(article['keywords'])\n",
        "\n",
        "def video_keywords_to_string(video: Dict) -> str:\n",
        "    return \" \".join(video['keywords'])"
      ],
      "metadata": {
        "id": "cwKhY5bsIE3B"
      },
      "execution_count": 10,
      "outputs": []
    },
    {
      "cell_type": "code",
      "source": [
        "def assign_videos_to_articles(articles: List[Dict], videos: List[Dict], threshold: float = 0.3) -> Dict[int, List[int]]:\n",
        "    article_keywords = [article_keywords_to_string(article) for article in articles]\n",
        "    video_keywords = [video_keywords_to_string(video) for video in videos]\n",
        "\n",
        "    vectorizer = TfidfVectorizer()\n",
        "    article_matrix = vectorizer.fit_transform(article_keywords)\n",
        "    video_matrix = vectorizer.transform(video_keywords)\n",
        "\n",
        "    similarity_matrix = cosine_similarity(article_matrix, video_matrix)\n",
        "\n",
        "    related_videos = defaultdict(list)\n",
        "    for article_index, article_row in enumerate(similarity_matrix):\n",
        "      print(f\"article index: {article_index} , article row: {article_row}\")\n",
        "      for video_index, similarity_score in enumerate(article_row):\n",
        "          if similarity_score >= threshold:\n",
        "              related_videos[article_index].append(video_index)\n",
        "\n",
        "    return related_videos"
      ],
      "metadata": {
        "id": "sNUckfVeIO1f"
      },
      "execution_count": 16,
      "outputs": []
    },
    {
      "cell_type": "code",
      "source": [
        "f_articles = open('articles.json')\n",
        "f_videos = open('videos.json')\n",
        "article_data = json.load(f_articles)\n",
        "video_data = json.load(f_videos)\n",
        "\n",
        "list_of_articles = list(value for value in article_data.values())\n",
        "list_of_videos = list(value for value in video_data.values())\n",
        "\n",
        "related_videos = assign_videos_to_articles(list_of_articles, list_of_videos)\n",
        "\n",
        "for article_index, video_indices in related_videos.items():\n",
        "    print(f\"Article {article_index}: {list_of_articles[article_index]['keywords']}\")\n",
        "    for video_index in video_indices:\n",
        "      print(f\"  Related Video: {list_of_videos[video_index]['keywords']}\")\n"
      ],
      "metadata": {
        "id": "HFdCspLIJBg5",
        "outputId": "5af2b456-77ad-4b9f-c3ff-67d5e937bd67",
        "colab": {
          "base_uri": "https://localhost:8080/"
        }
      },
      "execution_count": 17,
      "outputs": [
        {
          "output_type": "stream",
          "name": "stdout",
          "text": [
            "article index: 0 , article row: [0.12207095 0.22226155 0.13258306 0.0547024  0.16233808 0.01933188\n",
            " 0.21553044 0.11410904 0.04668448 0.26581964 0.1623422  0.16167335\n",
            " 0.         0.1414228  0.22532006 0.09573568 0.03878312 0.21246275\n",
            " 0.14159545 0.28647039 0.14364496 0.07362294 0.         0.14783387\n",
            " 0.15635901 0.27076934 0.14934092 0.24510633 0.18482325 0.2146687\n",
            " 0.07362294 0.07790366 0.22368271 0.10927759 0.         0.2073179\n",
            " 0.         0.22011852 0.22381001]\n",
            "article index: 1 , article row: [0.14115643 0.25701158 0.15331209 0.15269913 0.26603005 0.08557365\n",
            " 0.24922808 0.1319497  0.20665149 0.35724588 0.11812653 0.099243\n",
            " 0.         0.1635339  0.29284621 0.11070371 0.04484676 0.24568077\n",
            " 0.16373354 0.33125931 0.16610349 0.0851337  0.         0.17094732\n",
            " 0.18080534 0.19702236 0.17268999 0.28342808 0.21371989 0.18339893\n",
            " 0.0851337  0.13254392 0.16276029 0.12636287 0.         0.20372287\n",
            " 0.         0.20884117 0.25880214]\n",
            "article index: 2 , article row: [0.08022144 0.0781464  0.04661575 0.06938007 0.05707752 0.02451898\n",
            " 0.1040057  0.04012035 0.0164141  0.08868193 0.03591731 0.06951425\n",
            " 0.11500213 0.19474627 0.06812098 0.03366034 0.01363601 0.1233935\n",
            " 0.04978448 0.10072201 0.0834257  0.11739272 0.0513213  0.11452676\n",
            " 0.05497529 0.05990621 0.07988858 0.08617855 0.14969899 0.05576389\n",
            " 0.02588558 0.13108258 0.04948855 0.10520641 0.         0.09424478\n",
            " 0.         0.12616614 0.10148768]\n",
            "article index: 3 , article row: [0.23001196 0.12476385 0.07442391 0.03070654 0.09112653 0.08757473\n",
            " 0.12098543 0.06405374 0.02620577 0.09869579 0.05734341 0.04817658\n",
            " 0.         0.07938599 0.1568161  0.05374007 0.02177044 0.11926342\n",
            " 0.07948291 0.16080671 0.08063338 0.04132736 0.         0.08298477\n",
            " 0.08777025 0.15199312 0.20236951 0.13758749 0.10374831 0.08902928\n",
            " 0.04132736 0.04373029 0.17211276 0.06134166 0.         0.09889535\n",
            " 0.         0.06797684 0.12563306]\n",
            "article index: 4 , article row: [0.         0.         0.         0.         0.         0.\n",
            " 0.         0.07046855 0.         0.         0.         0.10600267\n",
            " 0.         0.         0.08973725 0.         0.         0.\n",
            " 0.         0.         0.         0.         0.         0.\n",
            " 0.         0.         0.         0.         0.         0.\n",
            " 0.         0.         0.         0.04498991 0.         0.\n",
            " 0.         0.02991382 0.        ]\n",
            "article index: 5 , article row: [0.15703485 0.18361142 0.15455546 0.0362233  0.37312976 0.11646081\n",
            " 0.21697514 0.12898478 0.03091393 0.11642757 0.06764579 0.05683203\n",
            " 0.         0.09364856 0.15097438 0.06339507 0.15552577 0.16215837\n",
            " 0.09376289 0.18969742 0.09512005 0.04875227 0.03866292 0.13144649\n",
            " 0.10353915 0.1966119  0.15482608 0.20750573 0.12238784 0.10502438\n",
            " 0.04875227 0.17683528 0.09320555 0.1746846  0.         0.48207667\n",
            " 0.         0.15873891 0.32460048]\n",
            "article index: 6 , article row: [0.21750173 0.49714018 0.46971897 0.09746682 0.28924831 0.13908706\n",
            " 0.40431839 0.20331548 0.08318077 0.34683307 0.26000846 0.20206271\n",
            " 0.         0.25198219 0.34521258 0.17057847 0.09466444 0.42002234\n",
            " 0.33336803 0.5104229  0.42044512 0.13117878 0.         0.34351128\n",
            " 0.278595   0.34101643 0.30029574 0.45691563 0.34443025 0.28259134\n",
            " 0.13117878 0.20277567 0.25079017 0.19470698 0.         0.33713146\n",
            " 0.         0.21576795 0.44364605]\n",
            "article index: 7 , article row: [0.03804057 0.06926264 0.04131643 0.13756927 0.05058889 0.00602433\n",
            " 0.06716505 0.03555943 0.01454813 0.05479095 0.10685811 0.02674522\n",
            " 0.         0.04407112 0.06037691 0.50442338 0.01208586 0.14557279\n",
            " 0.08312103 0.08927183 0.1238847  0.02294288 0.         0.04606898\n",
            " 0.10614172 0.05309601 0.04653862 0.10127554 0.07213908 0.0494246\n",
            " 0.02294288 0.02427686 0.04386264 0.03405382 0.1186856  0.05490174\n",
            " 0.         0.03773733 0.06974518]\n",
            "article index: 8 , article row: [0.15632897 0.17910972 0.10684221 0.04408199 0.17706614 0.04311431\n",
            " 0.17368545 0.0919549  0.06214299 0.18342594 0.11809465 0.06916181\n",
            " 0.         0.11396572 0.15613168 0.0771487  0.03125342 0.19012741\n",
            " 0.11410485 0.23085248 0.11575645 0.05932913 0.05881361 0.18392277\n",
            " 0.12600208 0.13730361 0.19426791 0.19751921 0.16280906 0.12780953\n",
            " 0.05932913 0.06277875 0.1134266  0.12632876 0.         0.14197316\n",
            " 0.         0.13902638 0.18035754]\n",
            "article index: 9 , article row: [0.04864317 0.08856739 0.05283206 0.02179796 0.11042481 0.02778864\n",
            " 0.08588516 0.04547048 0.12423986 0.07006219 0.14684269 0.0341996\n",
            " 0.         0.05635455 0.07720505 0.03814901 0.0154544  0.10336825\n",
            " 0.10628836 0.11415351 0.05724004 0.02933747 0.         0.05890924\n",
            " 0.06230637 0.10789691 0.15260611 0.12950287 0.11479721 0.10788342\n",
            " 0.13304729 0.06762323 0.05608796 0.15708125 0.         0.09502136\n",
            " 0.         0.12374556 0.08918442]\n",
            "article index: 10 , article row: [0.02267983 0.04129446 0.0246329  0.01016328 0.06161696 0.00359171\n",
            " 0.04004387 0.02120057 0.06999714 0.08944747 0.01897958 0.01594553\n",
            " 0.         0.02627525 0.03599678 0.01778694 0.10909461 0.03947392\n",
            " 0.02630733 0.05322396 0.02668811 0.11038777 0.         0.02746638\n",
            " 0.09751334 0.0316559  0.02774638 0.04553884 0.03433871 0.029467\n",
            " 0.01367857 0.01447389 0.02615095 0.02030292 0.         0.03273248\n",
            " 0.         0.02249904 0.04158215]\n",
            "article index: 11 , article row: [0.04898289 0.07724457 0.05741827 0.08387792 0.0348513  0.04415296\n",
            " 0.07695397 0.06779712 0.02773727 0.05414883 0.04777341 0.10757905\n",
            " 0.07021984 0.08313511 0.0783541  0.02055287 0.02526582 0.14527492\n",
            " 0.05726309 0.06150045 0.0509394  0.01580563 0.19783992 0.07986358\n",
            " 0.07312233 0.08293643 0.04877964 0.13575849 0.0914056  0.13034209\n",
            " 0.07167952 0.08301551 0.13703832 0.08462787 0.         0.09967669\n",
            " 0.         0.2643408  0.09170238]\n",
            "Article 1: ['Montserrat Bernabeu', 'novia de su hijo', 'mujer buena', 'carinosa', 'partido de beisbol de Milan', 'Jordi Martin', 'paparazzi', 'expareja', 'encuentro cordial', 'prensa espanola', 'progenitora de Pique', 'teletrabajando', 'joven de 23 anos', 'afectada emocionalmente', 'Shakira', 'Monotonia', 'Ozuna.']\n",
            "  Related Video: ['', 'Comisario de policia millonario', 'Ministra de Defensa', 'Policia conspirando con periodistas', 'Partido politico Podemos', 'Criminalizacion de Podemos', 'Profesionales del periodismo', 'Informe Prisa', 'Cadena Ser', 'La Sexta', 'Antena 3', 'Telecinco', 'Poderes economicos', 'Estado de derecho', 'Villarejo y Cospedal', 'Fabricantes de basura mediatica', 'Abogados', 'Democracia espanola', 'Alberto Rodriguez y su condena injusta', 'Instituciones (policia', 'ejercito', 'periodismo)', 'Partido Popular', 'Elecciones', 'Apoyo de poderes economicos y mediaticos gallegos']\n",
            "  Related Video: ['iniciacion guitarra', 'acordes basicos', 'diagramas de acordes', 'partes de la guitarra', 'trastes', 'cuerdas', 'acorde de dos', 'leer diagramas de acordes', 'acorde de re mayor', 'acorde de la esclava']\n",
            "Article 5: ['claves para salud mental', 'evitar ansiedad', 'proximo ano 2023', 'exconsejero Jose Antonio Viera', 'ERE', 'Guerra en Ucrania', 'Rusia', 'militares', 'Makiivka', 'mujer', 'psicologos', 'higiene mental', 'ansioliticos', 'antidepresivos', 'pandemia', 'inflacion', 'olas de calor', 'problemas salud mental', 'cifras alarmantes', 'suicidio', 'principal causa de muerte', 'falta de recursos', 'sanidad publica', 'psicofarmacos', 'confederacion de salud mental', 'ansiedad', 'calidad de vida', 'expertos', 'emocion normal', 'protegernos', 'mecanismo adaptativo', 'estres', 'profesional', 'pensamientos rumiantes', 'bloquearnos', 'salud mental.']\n",
            "  Related Video: ['campana de becas', 'San chismoso', 'hombre', 'mujer', 'rico', 'pobre', 'clase humilde', 'multiplicar', 'pobreza', 'ciudadanos', 'Partido Popular', 'zonas basicas de salud', 'concentracion de The sanitarios', 'Comunidad de Madrid', 'beneficio', 'salud', 'asunto de becas', 'seiscientas mil becas', 'ciudadanos', 'motivos economicos', 'clase media', 'empobrecida', 'Sanchez', 'izquierda.']\n",
            "  Related Video: ['llamado', 'salud mental', 'padres de familia', 'cuidadores', 'jovenes', 'depresion', 'ansiedad', 'trastornos de conducta alimentaria', 'rebeldia', 'senales de alarma', 'espacios para hablar', 'proteccion', 'adultez', 'salud fisica', 'calidad de vida', 'vida', 'trastornos mentales', 'crisis del Covid', '19', 'aumento de ocupacion en clinicas psiquiatricas', 'emergencia funcional', 'adolescencia', 'cambios sociales', 'emocionales', 'fisicos', 'identidad', 'personalidad', 'habilidades', 'familia', 'comunidad', 'colegio', 'interrupcion', 'aislamiento', 'tension', 'ideas catastroficas', 'noticias', 'interactuar', 'conflicto', 'aislamiento fisico', 'presiones', 'senales de alarma', 'cambio repentino en comportamiento', 'fluctuaciones del estado de animo', 'apatia', 'falta de motivacion', 'sintomas depresivos', 'ideacion de suicidio', 'riesgo', 'bienestar emocional', 'pedir ayuda', 'prejuicios', 'psicoterapia', 'procesos de desarrollo', 'entorno', 'adaptacion progresiva', 'acompanamiento adecuado.']\n",
            "  Related Video: ['contaminacion de particulas diesel', 'polen letal', 'alergias', 'cambio medio ambiente', 'diagnostico de asma', 'tratamiento de asma', 'calor', 'sol', 'empeoramiento de la calidad del aire', 'desarrollo de alergias', 'contaminacion producida por particulas diesel', 'grandes ciudades', 'Mallorca', 'Madrid', 'aumento de la contaminacion', 'consecuencias directas en la salud', 'perdida de esperanza de vida', 'usar mascarilla', 'salir de grandes ciudades', 'seguir control medico', 'primavera problematica.']\n",
            "Article 6: ['Recetas navidenas en freidora de aire', 'Solomillo Wellington', 'duxelle de champinones', 'Pollo de Navidad', 'zumo de naranja', 'aceite de oliva', 'condimento italiano', 'ramas de romero', 'uvas negras', 'Panceta de cerdo con manzanas asadas', 'jarabe de arce', 'vinagre de sidra de manzana', 'azucar', 'mostaza', 'especias italianas', 'judias verdes al vapor', 'corteza de cerdo', 'sal marina', 'pulpa tierna y bien hecha.']\n",
            "  Related Video: ['', 'Ofertas', 'precios bajos', 'sorpresas', 'Amazon', 'Domotica', 'altavoz inteligente', 'Amazon Echo 4a generacion', 'Patinete urbano con diseno robusto', 'motor de 350 vatios y bateria de 48V', 'autonomia de 50km', 'precio rebajado de 159 euros (antes 700 euros)', 'Portatil Lenovo Ideapad 3', 'rebajado a 19 euros (50% de descuento)', \"Cafetera super automatica De'Longhi Soul\", 'preparacion completamente automatica', 'conectada al telefono', 'descuento de 200 euros (precio actual 999 euros)', 'Kit de limpieza para auriculares con 3 cabezales y funciones (cepillo', 'punzon y escobilla) de la marca Xiaomi', 'utilizable en casa.']\n",
            "  Related Video: ['', 'Alimentacion', 'Alimentos', 'Dieta', 'Nutricionista', 'Estilo de vida saludable', 'Realfooding', 'Comida real', 'Alimentos minimamente procesados', 'Verduras', 'Hortalizas', 'Frutas', 'Frutos secos', 'Legumbres', 'Pescado', 'Marisco', 'Tuberculos', 'Cereales integrales', 'Huevos', 'Carnes sin procesar', 'Leche fresca', 'Hierbas y especias', 'Semillas', 'Cafe', 'Infusiones', 'Alimentos reales procesados', 'Aceite de oliva virgen extra', 'Yogures', 'Lacteos fermentados', 'Pan integral', 'Chocolate negro o cacao en polvo (>70%)', 'Gazpacho envasado', 'Legumbres de bote', 'Pescado en lata', 'Bebidas vegetales sin azucares anadidos', 'Jamon iberico de bellota', 'Comida real congelada o envasada al vacio', 'Alimentos ultra procesados', 'Harinas refinadas', 'Aceites vegetales refinados', 'Azucares anadidos', 'Aditivos', 'Sal']\n",
            "  Related Video: ['velocidad de Internet', 'companias telefonicas', 'infraestructuras de fibra optica', 'conectividad en el hogar', 'anchos de banda', 'datos de ancho de banda', 'videollamada', 'Netflix', 'calidad estandar', 'calidad HD', 'Ultra HD 4K', 'videojuegos', 'router', 'antenas', 'repetidores Wifi', 'tarifas de Internet', 'conectividad dentro del hogar', 'cableado', 'fibra optica plastica', 'puntos de acceso', 'kits autoinstalables.']\n",
            "  Related Video: ['', 'Comisario de policia millonario', 'Ministra de Defensa', 'Policia conspirando con periodistas', 'Partido politico Podemos', 'Criminalizacion de Podemos', 'Profesionales del periodismo', 'Informe Prisa', 'Cadena Ser', 'La Sexta', 'Antena 3', 'Telecinco', 'Poderes economicos', 'Estado de derecho', 'Villarejo y Cospedal', 'Fabricantes de basura mediatica', 'Abogados', 'Democracia espanola', 'Alberto Rodriguez y su condena injusta', 'Instituciones (policia', 'ejercito', 'periodismo)', 'Partido Popular', 'Elecciones', 'Apoyo de poderes economicos y mediaticos gallegos']\n",
            "  Related Video: ['Premios Nacionales de Gastronomia', 'Real Academia Espanola de Gastronomia', 'Cofradia de la Buena Mesa', 'jefes de cocina', 'Elena', 'Arzak', 'Juan Maria', 'Alvaro', 'sumilleres', 'Bulli', 'Ferran', 'Centelles', 'David Seijas', 'Celler de Can Roca', 'labor periodistica', 'Rosa Ribas', 'diario El Pais', 'programa de radio', 'Gonzalo Sol', 'equipo', 'Gemma', 'Guillermo', 'Kurf El curioso', 'invitados', 'charla', 'programa de television', 'Un Pais para comerselo', 'Juan Echanove', 'Imanol Arias', 'directores', 'profesionales de la restauracion', 'creadores artisticos', 'cientificos', 'pasteleros.']\n",
            "  Related Video: ['crisis de transporte maritimo', 'escasez de contenedores', 'precios de fletes disparados', 'exportadores esperando por contenedores', 'congestion de barcos en puertos', 'cierre temporal de puertos en China', 'reduccion de la produccion en empresas chinas', 'India', 'Vietnam y Bangladesh', 'aumento del precio del transporte de mercancia', 'aumento de precios de productos', 'flete de China a Estados Unidos', 'flete de China al norte de Europa', 'costo del flete de contenedor entre Shanghai y America del Sur', 'afectacion a una parte considerable de los productos que consumimos', 'aumento de precios por subida de costos logisticos.']\n",
            "  Related Video: ['\"Agencia Expreso', 'construir tornado', 'masa de aire caliente', 'aire frio y seco', 'corrientes de conveccion', 'super celdas', 'mezzo ciclon', 'tornados', 'Estados Unidos', 'corredor de los tornados', 'velocidad de vientos', 'espectaculo bellisimo', 'devastador.\"']\n",
            "  Related Video: ['iniciacion guitarra', 'acordes basicos', 'diagramas de acordes', 'partes de la guitarra', 'trastes', 'cuerdas', 'acorde de dos', 'leer diagramas de acordes', 'acorde de re mayor', 'acorde de la esclava']\n",
            "  Related Video: ['Organizacion Riches', 'alcachofa', 'pelar', 'lavar', 'cortar', 'bol', 'agua', 'microondas', 'potencia', 'estuche de silicona', 'film de plastico', 'trapo', 'manoplas', 'deshojar', 'piel del tallo', 'corazon de la alcachofa', 'cuchillo', 'tenedor', 'aceite de oliva virgen extra', 'sal', 'vinagre', 'sarten', 'tostar', 'pimienta', 'queso rallado.']\n",
            "  Related Video: ['Paises con eleccion propia de sus lideres', 'Parlamento elige a lideres judiciales', 'Consejo como organo de gobierno del Poder Judicial', 'garantiza independencia de jueces y magistrados', 'nombramientos de magistrados dependen del Consejo', 'Consejo con veinte sillas para vocales', 'diez vocales salen del Congreso', 'seis de ellos siempre jueces', 'cuatro juristas', 'diputados aprueban nombres con mayoria cualificada de tres quintos', 'diez vocales salen del Senado', 'seis de ellos siempre jueces', 'cuatro juristas', 'senadores aprueban nombres con mayoria cualificada de tres quintos', 'candidatos votados por jueces en ambas camaras', 'candidatos a juristas propuestos por grupos politicos parlamentarios', 'presidente de Consejo es elegido por vocales con mayoria de tres quintos', 'sistema de eleccion creado en 1985 por ley del gobierno de Felipe Gonzalez', 'partidos politicos han tratado de controlar el Consejo del Poder Judicial para beneficiar a sus agendas politicas.']\n",
            "  Related Video: ['Nuevo Retraso', 'submarino Ese ochenta', 'Armada', 'problemas tecnicos', 'Navantia', 'serie S ochenta', 'clase Ese setenta', 'entregas', 'fechas contractuales', 'revision de la linea base de planificacion integrada', 'pruebas', 'systema de sonar', 'tecnologia de inmersion', 'listos para pruebas de mar (RTS)', 'navegacion en superficie', 'navegacion en inmersion', 'sistema de propulsion independiente', 'proyecto S ochenta.']\n",
            "  Related Video: ['castigo presupuestal a la educacion', 'derecho constitucional', 'Suprema Corte de Justicia', 'protestas', 'pancartas', 'Palacio Nacional', 'intervencion del presidente de la Republica', 'recorte presupuestal', 'centros de atencion', 'estudiantes con discapacidad', 'escolarizacion', 'veintisiete mil ocho cientos treinta y cuatro estudiantes', 'Secretaria de Hacienda', 'recursos', 'pago', 'salarios', 'aguinaldo', 'maestros', 'tijeretazo', 'cincuenta y dos por ciento', 'escuelas de tiempo completo', 'pobreza', 'desigualdad', 'educacion para todos.']\n",
            "  Related Video: ['centro logistico', 'San Fernando De Nadie', 'Madrid', 'Tour Mi trabajo', 'empresa centrado en el cliente', 'equipo de operaciones', 'tecnologias innovadoras', 'red global', 'centros logisticos', 'centros de clasificacion', 'estaciones logisticas', 'seguridad de empleados', 'maquinas expendedoras', 'guantes', 'chalecos reflectantes', 'recibir', 'mercancia', 'camiones', 'inventario', 'empleados', 'seleccion', 'empaquetado', 'recursos humanos', 'informatica', 'ingenieros', 'salarios', 'comunidad autonoma', 'escanea', 'productos', 'cajas de plastico', 'zona de recogida', 'pagina web', 'empaquetado', 'estacion de trabajo', 'residuos', 'etiquetado', 'distribucion', 'proceso', 'expansion', 'Amazon', 'equipo', 'empleados', 'paises', 'experiencia excelente', 'desafio', 'comida de la tarde.']\n",
            "  Related Video: ['Cobi diecinueve', 'turismo nacional', 'medios de transporte privados', 'Selva de Irati', 'Navarra', 'bosque de hayas y abetos', 'hayedo I Have tal', 'Europa', 'caminatas', 'frontera con Francia', 'Parque Natural de Cabo de Gata', 'Almeria', 'costa andaluza', 'playas', 'calas', 'Faro de Cabo de Gata', 'Ruta de los Molinos', 'Castilla', 'La Mancha', 'Quijote', 'Toledo', 'casa Museo de Dulcinea', 'Mota del Cuervo', 'Cuenca', 'Ciudad Real', 'Campo de Criptana', 'molinos', 'gigantes', 'Consuegra', 'turismo rural', 'Las Hurdes', 'Extremadura', 'valles urbano La', 'brillar', 'disparaban y Los', 'Angeles', 'paisajes', 'piscinas naturales', 'meandros', 'senderismo', 'Sierra Norte de Madrid', 'agua del grifo de Madrid', 'Valle', 'Medio del Lozoya', 'Valle Alto del Lozoya', 'Sierra del Rincon', 'Valle del Jarama', 'Sierra de la Cabrera', 'valle bajo del Lozoya', 'Guadalix de la Sierra', 'El Atazar.']\n",
            "  Related Video: ['llamado', 'salud mental', 'padres de familia', 'cuidadores', 'jovenes', 'depresion', 'ansiedad', 'trastornos de conducta alimentaria', 'rebeldia', 'senales de alarma', 'espacios para hablar', 'proteccion', 'adultez', 'salud fisica', 'calidad de vida', 'vida', 'trastornos mentales', 'crisis del Covid', '19', 'aumento de ocupacion en clinicas psiquiatricas', 'emergencia funcional', 'adolescencia', 'cambios sociales', 'emocionales', 'fisicos', 'identidad', 'personalidad', 'habilidades', 'familia', 'comunidad', 'colegio', 'interrupcion', 'aislamiento', 'tension', 'ideas catastroficas', 'noticias', 'interactuar', 'conflicto', 'aislamiento fisico', 'presiones', 'senales de alarma', 'cambio repentino en comportamiento', 'fluctuaciones del estado de animo', 'apatia', 'falta de motivacion', 'sintomas depresivos', 'ideacion de suicidio', 'riesgo', 'bienestar emocional', 'pedir ayuda', 'prejuicios', 'psicoterapia', 'procesos de desarrollo', 'entorno', 'adaptacion progresiva', 'acompanamiento adecuado.']\n",
            "  Related Video: ['contaminacion de particulas diesel', 'polen letal', 'alergias', 'cambio medio ambiente', 'diagnostico de asma', 'tratamiento de asma', 'calor', 'sol', 'empeoramiento de la calidad del aire', 'desarrollo de alergias', 'contaminacion producida por particulas diesel', 'grandes ciudades', 'Mallorca', 'Madrid', 'aumento de la contaminacion', 'consecuencias directas en la salud', 'perdida de esperanza de vida', 'usar mascarilla', 'salir de grandes ciudades', 'seguir control medico', 'primavera problematica.']\n",
            "Article 7: ['barcos papel', 'origami', 'manualidades', 'ninos', 'estanque', 'piscina', 'agua', 'figura', 'tecnicas', 'hoja', 'pliegues', 'bordes', 'centro', 'pentagono', 'sombrero papel', 'triangulo', 'solapas', 'palas laterales', 'barco papel pirata', 'papel origami', 'color', 'tijeras', 'lapiz', 'rectangulo', 'X', 'sobre', 'casita china', 'picos interiores', 'casita china', 'pliegues verticales', 'proa', 'popa', 'mastil', 'vela', 'cartulina', 'palito de brocheta', 'silicona caliente', 'mascaron', 'velas', 'bolita de plastilina.']\n",
            "  Related Video: ['margaritas de papel', 'manualidad', 'papel de colores', 'regla', 'lapiz', 'tijeras', 'pegamento de papel', 'cortes', 'tiras de papel', 'margen', 'medidas', 'extremos', 'enrollar', 'flor', 'decorar', 'compartir', 'suscribirse', 'canal', 'tutorial.']\n"
          ]
        }
      ]
    }
  ]
}