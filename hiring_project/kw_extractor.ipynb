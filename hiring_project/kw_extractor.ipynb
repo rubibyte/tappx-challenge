{
  "nbformat": 4,
  "nbformat_minor": 0,
  "metadata": {
    "colab": {
      "provenance": [],
      "authorship_tag": "ABX9TyOB51ci4xMd6CcFeHZVCxXz",
      "include_colab_link": true
    },
    "kernelspec": {
      "name": "python3",
      "display_name": "Python 3"
    },
    "language_info": {
      "name": "python"
    }
  },
  "cells": [
    {
      "cell_type": "markdown",
      "metadata": {
        "id": "view-in-github",
        "colab_type": "text"
      },
      "source": [
        "<a href=\"https://colab.research.google.com/github/xavirubi/tappx-challenge/blob/master/hiring_project/kw_extractor.ipynb\" target=\"_parent\"><img src=\"https://colab.research.google.com/assets/colab-badge.svg\" alt=\"Open In Colab\"/></a>"
      ]
    },
    {
      "cell_type": "code",
      "execution_count": null,
      "metadata": {
        "id": "LVL79AKfkQGv"
      },
      "outputs": [],
      "source": [
        "pip install -U keybert"
      ]
    },
    {
      "cell_type": "code",
      "source": [
        "pip install -U rake-nltk"
      ],
      "metadata": {
        "id": "jdhdwsgEAIRQ"
      },
      "execution_count": null,
      "outputs": []
    },
    {
      "cell_type": "code",
      "source": [
        "pip install -U yake"
      ],
      "metadata": {
        "id": "DeWWVDL1Y3t-"
      },
      "execution_count": null,
      "outputs": []
    },
    {
      "cell_type": "code",
      "source": [
        "pip install googletrans==3.1.0a0"
      ],
      "metadata": {
        "id": "74juDsDlQCUz"
      },
      "execution_count": null,
      "outputs": []
    },
    {
      "cell_type": "code",
      "source": [
        "pip install -U gensim"
      ],
      "metadata": {
        "id": "NWGPuBpznMle"
      },
      "execution_count": null,
      "outputs": []
    },
    {
      "cell_type": "code",
      "source": [
        "import json\n",
        "from keybert import KeyBERT\n",
        "from rake_nltk import Rake\n",
        "import nltk\n",
        "import yake\n",
        "from googletrans import Translator\n",
        "from gensim.models import Word2Vec\n",
        "\n",
        "nltk.download('stopwords')\n",
        "nltk.download('punkt')"
      ],
      "metadata": {
        "id": "9q7g2rJMkV-4",
        "outputId": "21934ca3-0b82-4957-986c-e353bbd08e3f",
        "colab": {
          "base_uri": "https://localhost:8080/"
        }
      },
      "execution_count": 6,
      "outputs": [
        {
          "output_type": "stream",
          "name": "stderr",
          "text": [
            "[nltk_data] Downloading package stopwords to /root/nltk_data...\n",
            "[nltk_data]   Unzipping corpora/stopwords.zip.\n",
            "[nltk_data] Downloading package punkt to /root/nltk_data...\n",
            "[nltk_data]   Unzipping tokenizers/punkt.zip.\n"
          ]
        },
        {
          "output_type": "execute_result",
          "data": {
            "text/plain": [
              "True"
            ]
          },
          "metadata": {},
          "execution_count": 6
        }
      ]
    },
    {
      "cell_type": "code",
      "source": [
        "f_articles = open('articles.json')\n",
        "f_videos = open('videos.json')\n",
        "\n",
        "articles_data = json.load(f_articles)\n",
        "videos_data = json.load(f_videos)\n",
        "\n",
        "article_ids = list(article_id for article_id in articles_data.keys())\n",
        "video_ids = list(video_id for video_id in videos_data.keys())"
      ],
      "metadata": {
        "id": "sfCcPwN3KVoU"
      },
      "execution_count": 20,
      "outputs": []
    },
    {
      "cell_type": "code",
      "source": [
        "def article_text(id):\n",
        "\treturn articles_data[id][\"text\"]\n",
        "\n",
        "def article_keywords(id):\n",
        "\treturn articles_data[id][\"keywords\"]\n",
        "\n",
        "def video_keywords(id):\n",
        "\treturn videos_data[id][\"keywords\"]"
      ],
      "metadata": {
        "id": "HLuiT4stKzZW"
      },
      "execution_count": 21,
      "outputs": []
    },
    {
      "cell_type": "code",
      "source": [
        "kw_model = KeyBERT()\n",
        "def keybert_keywords(text):\n",
        "  return kw_model.extract_keywords(text, keyphrase_ngram_range=(1, 3))"
      ],
      "metadata": {
        "id": "1FUsvWjVKnG_"
      },
      "execution_count": null,
      "outputs": []
    },
    {
      "cell_type": "code",
      "source": [
        "rake_model = Rake()\n",
        "def rake_keywords(text):\n",
        "  kw_extracted = rake_model.extract_keywords_from_text(text)\n",
        "  return rake_model.get_ranked_phrases_with_scores()\n",
        "\n",
        "translator = Translator()"
      ],
      "metadata": {
        "id": "A2Xf4od5BWHY"
      },
      "execution_count": null,
      "outputs": []
    },
    {
      "cell_type": "code",
      "source": [
        "def yake_keywords(text):\n",
        "  kw_extractor = yake.KeywordExtractor(lan='en', n=3)\n",
        "  return kw_extractor.extract_keywords(text)"
      ],
      "metadata": {
        "id": "5VYG-4faZJD4"
      },
      "execution_count": null,
      "outputs": []
    },
    {
      "cell_type": "code",
      "source": [
        "for id in article_ids:\n",
        "  print(f'''TEXT FROM ARTICLE {id}:\n",
        "  {article_text(id)}\n",
        "''')\n",
        "  print(f'''KEYWORDS FROM ARTICLE {id}:\n",
        "  {article_keywords(id)}\n",
        "''')\n",
        "#   print(f'''KEYBERT KEYWORDS FROM ARTICLE {id}:\n",
        "# {keybert_keywords(article_text(id))}\n",
        "\n",
        "  # print(f'''RAKE KEYWORDS FROM ARTICLE {id}:\n",
        "# {rake_keywords(article_text(id))}\n",
        "\n",
        "  print(f'''YAKE KEYWORDS FROM ARTICLE {id}:\n",
        "{yake_keywords(article_text(id))}\n",
        "\n",
        "\n",
        "\n",
        "-----------------------------------------------------------------------------------------------------\n",
        "''')\n",
        "\n",
        "f_articles.close()"
      ],
      "metadata": {
        "id": "dPkA4OBHLNrv"
      },
      "execution_count": null,
      "outputs": []
    },
    {
      "cell_type": "code",
      "source": [
        "corpus1 = article_keywords(article_ids[0])\n",
        "# corpus2 = article_keywords(article_ids[7])\n",
        "# print(f\"CORPUS 1: {corpus1}\\n\\nCORPUS 2: {corpus2}\\n--------------------------------------------------------------\\n\\n\")\n",
        "\n",
        "# model = Word2Vec(corpus1, window=5, min_count=1, workers=4)\n",
        "\n",
        "model = Word2Vec(corpus1)"
      ],
      "metadata": {
        "id": "sC66ihTYnzB5",
        "outputId": "43f54e68-77fb-4645-8fa9-765b1f5675b4",
        "colab": {
          "base_uri": "https://localhost:8080/"
        }
      },
      "execution_count": 22,
      "outputs": [
        {
          "output_type": "stream",
          "name": "stderr",
          "text": [
            "WARNING:gensim.models.word2vec:Each 'sentences' item should be a list of words (usually unicode strings). First item here is instead plain <class 'str'>.\n"
          ]
        }
      ]
    },
    {
      "cell_type": "code",
      "source": [
        "for i in range(0, len(video_ids)):\n",
        "  corpus2 = video_keywords(video_ids[i])\n",
        "  similarity_score = model.wv.n_similarity(corpus1, corpus2)\n",
        "  print(f\"SIMILARITY SCORE: {similarity_score}\\n\")"
      ],
      "metadata": {
        "id": "kiU5g4w4osW8",
        "outputId": "4f91cb54-62d2-419b-b840-d6d1fe2c047c",
        "colab": {
          "base_uri": "https://localhost:8080/"
        }
      },
      "execution_count": 24,
      "outputs": [
        {
          "output_type": "stream",
          "name": "stdout",
          "text": [
            "SIMILARITY SCORE: 0.0\n",
            "\n",
            "SIMILARITY SCORE: 0.0\n",
            "\n",
            "SIMILARITY SCORE: 0.0\n",
            "\n",
            "SIMILARITY SCORE: 0.0\n",
            "\n",
            "SIMILARITY SCORE: 0.0\n",
            "\n",
            "SIMILARITY SCORE: 0.0\n",
            "\n",
            "SIMILARITY SCORE: 0.0\n",
            "\n",
            "SIMILARITY SCORE: 0.0\n",
            "\n",
            "SIMILARITY SCORE: 0.0\n",
            "\n",
            "SIMILARITY SCORE: 0.0\n",
            "\n",
            "SIMILARITY SCORE: 0.0\n",
            "\n",
            "SIMILARITY SCORE: 0.0\n",
            "\n",
            "SIMILARITY SCORE: 0.0\n",
            "\n",
            "SIMILARITY SCORE: 0.0\n",
            "\n",
            "SIMILARITY SCORE: 0.0\n",
            "\n",
            "SIMILARITY SCORE: 0.0\n",
            "\n",
            "SIMILARITY SCORE: 0.0\n",
            "\n",
            "SIMILARITY SCORE: 0.0\n",
            "\n",
            "SIMILARITY SCORE: 0.0\n",
            "\n",
            "SIMILARITY SCORE: 0.0\n",
            "\n",
            "SIMILARITY SCORE: 0.0\n",
            "\n",
            "SIMILARITY SCORE: 0.0\n",
            "\n",
            "SIMILARITY SCORE: 0.0\n",
            "\n",
            "SIMILARITY SCORE: 0.0\n",
            "\n",
            "SIMILARITY SCORE: 0.0\n",
            "\n",
            "SIMILARITY SCORE: 0.0\n",
            "\n",
            "SIMILARITY SCORE: 0.0\n",
            "\n",
            "SIMILARITY SCORE: 0.0\n",
            "\n",
            "SIMILARITY SCORE: 0.0\n",
            "\n",
            "SIMILARITY SCORE: 0.0\n",
            "\n",
            "SIMILARITY SCORE: 0.0\n",
            "\n",
            "SIMILARITY SCORE: 0.0\n",
            "\n",
            "SIMILARITY SCORE: 0.0\n",
            "\n",
            "SIMILARITY SCORE: 0.0\n",
            "\n",
            "SIMILARITY SCORE: 0.0\n",
            "\n",
            "SIMILARITY SCORE: 0.0\n",
            "\n",
            "SIMILARITY SCORE: 0.0\n",
            "\n",
            "SIMILARITY SCORE: 0.0\n",
            "\n",
            "SIMILARITY SCORE: 0.0\n",
            "\n"
          ]
        }
      ]
    }
  ]
}