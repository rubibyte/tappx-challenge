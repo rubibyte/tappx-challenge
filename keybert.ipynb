{
  "nbformat": 4,
  "nbformat_minor": 0,
  "metadata": {
    "colab": {
      "provenance": [],
      "authorship_tag": "ABX9TyNV5G2fOypznz3dIsH98n1t",
      "include_colab_link": true
    },
    "kernelspec": {
      "name": "python3",
      "display_name": "Python 3"
    },
    "language_info": {
      "name": "python"
    }
  },
  "cells": [
    {
      "cell_type": "markdown",
      "metadata": {
        "id": "view-in-github",
        "colab_type": "text"
      },
      "source": [
        "<a href=\"https://colab.research.google.com/github/xavirubi/tappx-challenge/blob/master/keybert.ipynb\" target=\"_parent\"><img src=\"https://colab.research.google.com/assets/colab-badge.svg\" alt=\"Open In Colab\"/></a>"
      ]
    },
    {
      "cell_type": "code",
      "execution_count": null,
      "metadata": {
        "id": "LVL79AKfkQGv"
      },
      "outputs": [],
      "source": [
        "pip install keybert"
      ]
    },
    {
      "cell_type": "code",
      "source": [
        "from keybert import KeyBERT\n",
        "\n",
        "\n",
        "kw_model = KeyBERT()\n",
        "def keybert_keywords(text):\n",
        "  return kw_model.extract_keywords(text, keyphrase_ngram_range=(1, 3))"
      ],
      "metadata": {
        "id": "9q7g2rJMkV-4"
      },
      "execution_count": null,
      "outputs": []
    },
    {
      "cell_type": "code",
      "source": [
        "print('''\n",
        "Las oposiciones a maestro en la Comunidad de Madrid han arrancado este sabado Asi desde el proximo mes de septiembre, con el comienzo del curso escolar dos mil veintidos dos mil veintitres tres mil nuevos maestros se incorporaran a la educacion publica madrilena. Desde primera hora de la manana a los opositores han mostrado sus ganas de enfrentarse Esta prueba, a pesar del nerviosismo. Fue muy nerviosa porque es mucho trabajo, todo un ano de trabajo, de esfuerzo, de estudiar, trabajar en el colegio de maestra y la verdad que esperemos que vaya bien, pero muy nerviosa. Necesita mucho tiempo, mucha preparacion y dedicarte Deja basicamente a estudiar la oposicion ocho horas al dia y demas. Entonces es complicado. Ya te lo quitas de encima y de pasar la prueba y a ver que tal. Por su parte, desde el sindicato Csif se han mostrado preocupados por las temperaturas de calor extremas, por lo que han pedido a la comunidad que acondicione los centros educativos. Lo que mas nos preocupa, sobre todo, es el calor que va a hacer en toda en toda la region y, por tanto, el problema que puede haber con los opositores, con los desmayos sobre todo cuando se acerque la mitad del mediodia. Hemos exigido la a la comunidad judia en Madrid al Gobierno que hay condiciones los centros educativos para que se pueda hacer un examen en condiciones. Aun asi, han esperado que estas oposiciones se desarrollen con total normalidad.\\n\\n''')\n",
        "\n",
        "print(['oposiciones a maestro', 'Comunidad de Madrid', 'curso escolar', 'nuevos maestros', 'educacion publica', 'opositores', 'prueba', 'nerviosismo', 'trabajo', 'esfuerzo', 'estudio', 'colegio de maestra', 'sindicato Csif', 'preocupacion', 'temperaturas de calor extremas', 'centros educativos', 'desmayos', 'medio del mediodia', 'Gobierno', 'condiciones', 'examen', 'normalidad.'])\n",
        "\n",
        "print()\n",
        "\n",
        "print(keybert_keywords(\"Las oposiciones a maestro en la Comunidad de Madrid han arrancado este sabado Asi desde el proximo mes de septiembre, con el comienzo del curso escolar dos mil veintidos dos mil veintitres tres mil nuevos maestros se incorporaran a la educacion publica madrilena. Desde primera hora de la manana a los opositores han mostrado sus ganas de enfrentarse Esta prueba, a pesar del nerviosismo. Fue muy nerviosa porque es mucho trabajo, todo un ano de trabajo, de esfuerzo, de estudiar, trabajar en el colegio de maestra y la verdad que esperemos que vaya bien, pero muy nerviosa. Necesita mucho tiempo, mucha preparacion y dedicarte Deja basicamente a estudiar la oposicion ocho horas al dia y demas. Entonces es complicado. Ya te lo quitas de encima y de pasar la prueba y a ver que tal. Por su parte, desde el sindicato Csif se han mostrado preocupados por las temperaturas de calor extremas, por lo que han pedido a la comunidad que acondicione los centros educativos. Lo que mas nos preocupa, sobre todo, es el calor que va a hacer en toda en toda la region y, por tanto, el problema que puede haber con los opositores, con los desmayos sobre todo cuando se acerque la mitad del mediodia. Hemos exigido la a la comunidad judia en Madrid al Gobierno que hay condiciones los centros educativos para que se pueda hacer un examen en condiciones. Aun asi, han esperado que estas oposiciones se desarrollen con total normalidad.\"))"
      ],
      "metadata": {
        "id": "zCAZVGJfmQ6P"
      },
      "execution_count": null,
      "outputs": []
    }
  ]
}